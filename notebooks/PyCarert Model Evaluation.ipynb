{
  "nbformat": 4,
  "nbformat_minor": 0,
  "metadata": {
    "kernelspec": {
      "display_name": "Python 3",
      "language": "python",
      "name": "python3"
    },
    "language_info": {
      "codemirror_mode": {
        "name": "ipython",
        "version": 3
      },
      "file_extension": ".py",
      "mimetype": "text/x-python",
      "name": "python",
      "nbconvert_exporter": "python",
      "pygments_lexer": "ipython3",
      "version": "3.8.5"
    },
    "colab": {
      "provenance": []
    },
    "widgets": {
      "application/vnd.jupyter.widget-state+json": {
        "35479ea19b7d4dea944a4a364fa12030": {
          "model_module": "@jupyter-widgets/controls",
          "model_name": "HBoxModel",
          "model_module_version": "1.5.0",
          "state": {
            "_dom_classes": [],
            "_model_module": "@jupyter-widgets/controls",
            "_model_module_version": "1.5.0",
            "_model_name": "HBoxModel",
            "_view_count": null,
            "_view_module": "@jupyter-widgets/controls",
            "_view_module_version": "1.5.0",
            "_view_name": "HBoxView",
            "box_style": "",
            "children": [
              "IPY_MODEL_46d98fd95a5245c2be478121f7b818d0",
              "IPY_MODEL_059961a331f04e27a2f98f7cc117ee18",
              "IPY_MODEL_aeaf0c66662146628a77c159496baa18"
            ],
            "layout": "IPY_MODEL_812ac9b5ff8d45ea82adce167d385a99"
          }
        },
        "46d98fd95a5245c2be478121f7b818d0": {
          "model_module": "@jupyter-widgets/controls",
          "model_name": "HTMLModel",
          "model_module_version": "1.5.0",
          "state": {
            "_dom_classes": [],
            "_model_module": "@jupyter-widgets/controls",
            "_model_module_version": "1.5.0",
            "_model_name": "HTMLModel",
            "_view_count": null,
            "_view_module": "@jupyter-widgets/controls",
            "_view_module_version": "1.5.0",
            "_view_name": "HTMLView",
            "description": "",
            "description_tooltip": null,
            "layout": "IPY_MODEL_f2c88c28fcee4452ba6c5574dddc742c",
            "placeholder": "​",
            "style": "IPY_MODEL_96b979559d8245c186e57c87f7d79ae7",
            "value": "Processing: 100%"
          }
        },
        "059961a331f04e27a2f98f7cc117ee18": {
          "model_module": "@jupyter-widgets/controls",
          "model_name": "FloatProgressModel",
          "model_module_version": "1.5.0",
          "state": {
            "_dom_classes": [],
            "_model_module": "@jupyter-widgets/controls",
            "_model_module_version": "1.5.0",
            "_model_name": "FloatProgressModel",
            "_view_count": null,
            "_view_module": "@jupyter-widgets/controls",
            "_view_module_version": "1.5.0",
            "_view_name": "ProgressView",
            "bar_style": "",
            "description": "",
            "description_tooltip": null,
            "layout": "IPY_MODEL_0c56fe9b31304292ab7a8cf850027020",
            "max": 65,
            "min": 0,
            "orientation": "horizontal",
            "style": "IPY_MODEL_fee9bb1f65db442b8f63cb9de903e6b9",
            "value": 65
          }
        },
        "aeaf0c66662146628a77c159496baa18": {
          "model_module": "@jupyter-widgets/controls",
          "model_name": "HTMLModel",
          "model_module_version": "1.5.0",
          "state": {
            "_dom_classes": [],
            "_model_module": "@jupyter-widgets/controls",
            "_model_module_version": "1.5.0",
            "_model_name": "HTMLModel",
            "_view_count": null,
            "_view_module": "@jupyter-widgets/controls",
            "_view_module_version": "1.5.0",
            "_view_name": "HTMLView",
            "description": "",
            "description_tooltip": null,
            "layout": "IPY_MODEL_ccbed735b7584a57be4268eacc438fc2",
            "placeholder": "​",
            "style": "IPY_MODEL_dc600c34437c482e84427f595c815973",
            "value": " 65/65 [02:18&lt;00:00,  1.66s/it]"
          }
        },
        "812ac9b5ff8d45ea82adce167d385a99": {
          "model_module": "@jupyter-widgets/base",
          "model_name": "LayoutModel",
          "model_module_version": "1.2.0",
          "state": {
            "_model_module": "@jupyter-widgets/base",
            "_model_module_version": "1.2.0",
            "_model_name": "LayoutModel",
            "_view_count": null,
            "_view_module": "@jupyter-widgets/base",
            "_view_module_version": "1.2.0",
            "_view_name": "LayoutView",
            "align_content": null,
            "align_items": null,
            "align_self": null,
            "border": null,
            "bottom": null,
            "display": null,
            "flex": null,
            "flex_flow": null,
            "grid_area": null,
            "grid_auto_columns": null,
            "grid_auto_flow": null,
            "grid_auto_rows": null,
            "grid_column": null,
            "grid_gap": null,
            "grid_row": null,
            "grid_template_areas": null,
            "grid_template_columns": null,
            "grid_template_rows": null,
            "height": null,
            "justify_content": null,
            "justify_items": null,
            "left": null,
            "margin": null,
            "max_height": null,
            "max_width": null,
            "min_height": null,
            "min_width": null,
            "object_fit": null,
            "object_position": null,
            "order": null,
            "overflow": null,
            "overflow_x": null,
            "overflow_y": null,
            "padding": null,
            "right": null,
            "top": null,
            "visibility": "hidden",
            "width": null
          }
        },
        "f2c88c28fcee4452ba6c5574dddc742c": {
          "model_module": "@jupyter-widgets/base",
          "model_name": "LayoutModel",
          "model_module_version": "1.2.0",
          "state": {
            "_model_module": "@jupyter-widgets/base",
            "_model_module_version": "1.2.0",
            "_model_name": "LayoutModel",
            "_view_count": null,
            "_view_module": "@jupyter-widgets/base",
            "_view_module_version": "1.2.0",
            "_view_name": "LayoutView",
            "align_content": null,
            "align_items": null,
            "align_self": null,
            "border": null,
            "bottom": null,
            "display": null,
            "flex": null,
            "flex_flow": null,
            "grid_area": null,
            "grid_auto_columns": null,
            "grid_auto_flow": null,
            "grid_auto_rows": null,
            "grid_column": null,
            "grid_gap": null,
            "grid_row": null,
            "grid_template_areas": null,
            "grid_template_columns": null,
            "grid_template_rows": null,
            "height": null,
            "justify_content": null,
            "justify_items": null,
            "left": null,
            "margin": null,
            "max_height": null,
            "max_width": null,
            "min_height": null,
            "min_width": null,
            "object_fit": null,
            "object_position": null,
            "order": null,
            "overflow": null,
            "overflow_x": null,
            "overflow_y": null,
            "padding": null,
            "right": null,
            "top": null,
            "visibility": null,
            "width": null
          }
        },
        "96b979559d8245c186e57c87f7d79ae7": {
          "model_module": "@jupyter-widgets/controls",
          "model_name": "DescriptionStyleModel",
          "model_module_version": "1.5.0",
          "state": {
            "_model_module": "@jupyter-widgets/controls",
            "_model_module_version": "1.5.0",
            "_model_name": "DescriptionStyleModel",
            "_view_count": null,
            "_view_module": "@jupyter-widgets/base",
            "_view_module_version": "1.2.0",
            "_view_name": "StyleView",
            "description_width": ""
          }
        },
        "0c56fe9b31304292ab7a8cf850027020": {
          "model_module": "@jupyter-widgets/base",
          "model_name": "LayoutModel",
          "model_module_version": "1.2.0",
          "state": {
            "_model_module": "@jupyter-widgets/base",
            "_model_module_version": "1.2.0",
            "_model_name": "LayoutModel",
            "_view_count": null,
            "_view_module": "@jupyter-widgets/base",
            "_view_module_version": "1.2.0",
            "_view_name": "LayoutView",
            "align_content": null,
            "align_items": null,
            "align_self": null,
            "border": null,
            "bottom": null,
            "display": null,
            "flex": null,
            "flex_flow": null,
            "grid_area": null,
            "grid_auto_columns": null,
            "grid_auto_flow": null,
            "grid_auto_rows": null,
            "grid_column": null,
            "grid_gap": null,
            "grid_row": null,
            "grid_template_areas": null,
            "grid_template_columns": null,
            "grid_template_rows": null,
            "height": null,
            "justify_content": null,
            "justify_items": null,
            "left": null,
            "margin": null,
            "max_height": null,
            "max_width": null,
            "min_height": null,
            "min_width": null,
            "object_fit": null,
            "object_position": null,
            "order": null,
            "overflow": null,
            "overflow_x": null,
            "overflow_y": null,
            "padding": null,
            "right": null,
            "top": null,
            "visibility": null,
            "width": null
          }
        },
        "fee9bb1f65db442b8f63cb9de903e6b9": {
          "model_module": "@jupyter-widgets/controls",
          "model_name": "ProgressStyleModel",
          "model_module_version": "1.5.0",
          "state": {
            "_model_module": "@jupyter-widgets/controls",
            "_model_module_version": "1.5.0",
            "_model_name": "ProgressStyleModel",
            "_view_count": null,
            "_view_module": "@jupyter-widgets/base",
            "_view_module_version": "1.2.0",
            "_view_name": "StyleView",
            "bar_color": null,
            "description_width": ""
          }
        },
        "ccbed735b7584a57be4268eacc438fc2": {
          "model_module": "@jupyter-widgets/base",
          "model_name": "LayoutModel",
          "model_module_version": "1.2.0",
          "state": {
            "_model_module": "@jupyter-widgets/base",
            "_model_module_version": "1.2.0",
            "_model_name": "LayoutModel",
            "_view_count": null,
            "_view_module": "@jupyter-widgets/base",
            "_view_module_version": "1.2.0",
            "_view_name": "LayoutView",
            "align_content": null,
            "align_items": null,
            "align_self": null,
            "border": null,
            "bottom": null,
            "display": null,
            "flex": null,
            "flex_flow": null,
            "grid_area": null,
            "grid_auto_columns": null,
            "grid_auto_flow": null,
            "grid_auto_rows": null,
            "grid_column": null,
            "grid_gap": null,
            "grid_row": null,
            "grid_template_areas": null,
            "grid_template_columns": null,
            "grid_template_rows": null,
            "height": null,
            "justify_content": null,
            "justify_items": null,
            "left": null,
            "margin": null,
            "max_height": null,
            "max_width": null,
            "min_height": null,
            "min_width": null,
            "object_fit": null,
            "object_position": null,
            "order": null,
            "overflow": null,
            "overflow_x": null,
            "overflow_y": null,
            "padding": null,
            "right": null,
            "top": null,
            "visibility": null,
            "width": null
          }
        },
        "dc600c34437c482e84427f595c815973": {
          "model_module": "@jupyter-widgets/controls",
          "model_name": "DescriptionStyleModel",
          "model_module_version": "1.5.0",
          "state": {
            "_model_module": "@jupyter-widgets/controls",
            "_model_module_version": "1.5.0",
            "_model_name": "DescriptionStyleModel",
            "_view_count": null,
            "_view_module": "@jupyter-widgets/base",
            "_view_module_version": "1.2.0",
            "_view_name": "StyleView",
            "description_width": ""
          }
        },
        "c24e91e037e34524bd7c7007179f17d1": {
          "model_module": "@jupyter-widgets/controls",
          "model_name": "HBoxModel",
          "model_module_version": "1.5.0",
          "state": {
            "_dom_classes": [],
            "_model_module": "@jupyter-widgets/controls",
            "_model_module_version": "1.5.0",
            "_model_name": "HBoxModel",
            "_view_count": null,
            "_view_module": "@jupyter-widgets/controls",
            "_view_module_version": "1.5.0",
            "_view_name": "HBoxView",
            "box_style": "",
            "children": [
              "IPY_MODEL_4097c1976cb44bad80e470d3347156e1",
              "IPY_MODEL_f11b1bdc23b64d48a1b2deae41c8e8a6",
              "IPY_MODEL_4f1a79be98f34f90baffa368118397bd"
            ],
            "layout": "IPY_MODEL_00548c969d374bbebd38100a4f272c54"
          }
        },
        "4097c1976cb44bad80e470d3347156e1": {
          "model_module": "@jupyter-widgets/controls",
          "model_name": "HTMLModel",
          "model_module_version": "1.5.0",
          "state": {
            "_dom_classes": [],
            "_model_module": "@jupyter-widgets/controls",
            "_model_module_version": "1.5.0",
            "_model_name": "HTMLModel",
            "_view_count": null,
            "_view_module": "@jupyter-widgets/controls",
            "_view_module_version": "1.5.0",
            "_view_name": "HTMLView",
            "description": "",
            "description_tooltip": null,
            "layout": "IPY_MODEL_e72ddfa7cdbc40c68c7498db3be42557",
            "placeholder": "​",
            "style": "IPY_MODEL_1b04146f1b7a40b0a3233fc65cf5beb0",
            "value": "Processing: 100%"
          }
        },
        "f11b1bdc23b64d48a1b2deae41c8e8a6": {
          "model_module": "@jupyter-widgets/controls",
          "model_name": "FloatProgressModel",
          "model_module_version": "1.5.0",
          "state": {
            "_dom_classes": [],
            "_model_module": "@jupyter-widgets/controls",
            "_model_module_version": "1.5.0",
            "_model_name": "FloatProgressModel",
            "_view_count": null,
            "_view_module": "@jupyter-widgets/controls",
            "_view_module_version": "1.5.0",
            "_view_name": "ProgressView",
            "bar_style": "",
            "description": "",
            "description_tooltip": null,
            "layout": "IPY_MODEL_09e8ec506f4446afaf71ffdf458acb2d",
            "max": 4,
            "min": 0,
            "orientation": "horizontal",
            "style": "IPY_MODEL_384f336509f84829bf0d40c667b35af2",
            "value": 4
          }
        },
        "4f1a79be98f34f90baffa368118397bd": {
          "model_module": "@jupyter-widgets/controls",
          "model_name": "HTMLModel",
          "model_module_version": "1.5.0",
          "state": {
            "_dom_classes": [],
            "_model_module": "@jupyter-widgets/controls",
            "_model_module_version": "1.5.0",
            "_model_name": "HTMLModel",
            "_view_count": null,
            "_view_module": "@jupyter-widgets/controls",
            "_view_module_version": "1.5.0",
            "_view_name": "HTMLView",
            "description": "",
            "description_tooltip": null,
            "layout": "IPY_MODEL_aa605a60b9ff428aa7303f713ff3b8f5",
            "placeholder": "​",
            "style": "IPY_MODEL_3a755d85243f461d83d55c7898c666c5",
            "value": " 4/4 [00:04&lt;00:00,  1.17s/it]"
          }
        },
        "00548c969d374bbebd38100a4f272c54": {
          "model_module": "@jupyter-widgets/base",
          "model_name": "LayoutModel",
          "model_module_version": "1.2.0",
          "state": {
            "_model_module": "@jupyter-widgets/base",
            "_model_module_version": "1.2.0",
            "_model_name": "LayoutModel",
            "_view_count": null,
            "_view_module": "@jupyter-widgets/base",
            "_view_module_version": "1.2.0",
            "_view_name": "LayoutView",
            "align_content": null,
            "align_items": null,
            "align_self": null,
            "border": null,
            "bottom": null,
            "display": null,
            "flex": null,
            "flex_flow": null,
            "grid_area": null,
            "grid_auto_columns": null,
            "grid_auto_flow": null,
            "grid_auto_rows": null,
            "grid_column": null,
            "grid_gap": null,
            "grid_row": null,
            "grid_template_areas": null,
            "grid_template_columns": null,
            "grid_template_rows": null,
            "height": null,
            "justify_content": null,
            "justify_items": null,
            "left": null,
            "margin": null,
            "max_height": null,
            "max_width": null,
            "min_height": null,
            "min_width": null,
            "object_fit": null,
            "object_position": null,
            "order": null,
            "overflow": null,
            "overflow_x": null,
            "overflow_y": null,
            "padding": null,
            "right": null,
            "top": null,
            "visibility": "hidden",
            "width": null
          }
        },
        "e72ddfa7cdbc40c68c7498db3be42557": {
          "model_module": "@jupyter-widgets/base",
          "model_name": "LayoutModel",
          "model_module_version": "1.2.0",
          "state": {
            "_model_module": "@jupyter-widgets/base",
            "_model_module_version": "1.2.0",
            "_model_name": "LayoutModel",
            "_view_count": null,
            "_view_module": "@jupyter-widgets/base",
            "_view_module_version": "1.2.0",
            "_view_name": "LayoutView",
            "align_content": null,
            "align_items": null,
            "align_self": null,
            "border": null,
            "bottom": null,
            "display": null,
            "flex": null,
            "flex_flow": null,
            "grid_area": null,
            "grid_auto_columns": null,
            "grid_auto_flow": null,
            "grid_auto_rows": null,
            "grid_column": null,
            "grid_gap": null,
            "grid_row": null,
            "grid_template_areas": null,
            "grid_template_columns": null,
            "grid_template_rows": null,
            "height": null,
            "justify_content": null,
            "justify_items": null,
            "left": null,
            "margin": null,
            "max_height": null,
            "max_width": null,
            "min_height": null,
            "min_width": null,
            "object_fit": null,
            "object_position": null,
            "order": null,
            "overflow": null,
            "overflow_x": null,
            "overflow_y": null,
            "padding": null,
            "right": null,
            "top": null,
            "visibility": null,
            "width": null
          }
        },
        "1b04146f1b7a40b0a3233fc65cf5beb0": {
          "model_module": "@jupyter-widgets/controls",
          "model_name": "DescriptionStyleModel",
          "model_module_version": "1.5.0",
          "state": {
            "_model_module": "@jupyter-widgets/controls",
            "_model_module_version": "1.5.0",
            "_model_name": "DescriptionStyleModel",
            "_view_count": null,
            "_view_module": "@jupyter-widgets/base",
            "_view_module_version": "1.2.0",
            "_view_name": "StyleView",
            "description_width": ""
          }
        },
        "09e8ec506f4446afaf71ffdf458acb2d": {
          "model_module": "@jupyter-widgets/base",
          "model_name": "LayoutModel",
          "model_module_version": "1.2.0",
          "state": {
            "_model_module": "@jupyter-widgets/base",
            "_model_module_version": "1.2.0",
            "_model_name": "LayoutModel",
            "_view_count": null,
            "_view_module": "@jupyter-widgets/base",
            "_view_module_version": "1.2.0",
            "_view_name": "LayoutView",
            "align_content": null,
            "align_items": null,
            "align_self": null,
            "border": null,
            "bottom": null,
            "display": null,
            "flex": null,
            "flex_flow": null,
            "grid_area": null,
            "grid_auto_columns": null,
            "grid_auto_flow": null,
            "grid_auto_rows": null,
            "grid_column": null,
            "grid_gap": null,
            "grid_row": null,
            "grid_template_areas": null,
            "grid_template_columns": null,
            "grid_template_rows": null,
            "height": null,
            "justify_content": null,
            "justify_items": null,
            "left": null,
            "margin": null,
            "max_height": null,
            "max_width": null,
            "min_height": null,
            "min_width": null,
            "object_fit": null,
            "object_position": null,
            "order": null,
            "overflow": null,
            "overflow_x": null,
            "overflow_y": null,
            "padding": null,
            "right": null,
            "top": null,
            "visibility": null,
            "width": null
          }
        },
        "384f336509f84829bf0d40c667b35af2": {
          "model_module": "@jupyter-widgets/controls",
          "model_name": "ProgressStyleModel",
          "model_module_version": "1.5.0",
          "state": {
            "_model_module": "@jupyter-widgets/controls",
            "_model_module_version": "1.5.0",
            "_model_name": "ProgressStyleModel",
            "_view_count": null,
            "_view_module": "@jupyter-widgets/base",
            "_view_module_version": "1.2.0",
            "_view_name": "StyleView",
            "bar_color": null,
            "description_width": ""
          }
        },
        "aa605a60b9ff428aa7303f713ff3b8f5": {
          "model_module": "@jupyter-widgets/base",
          "model_name": "LayoutModel",
          "model_module_version": "1.2.0",
          "state": {
            "_model_module": "@jupyter-widgets/base",
            "_model_module_version": "1.2.0",
            "_model_name": "LayoutModel",
            "_view_count": null,
            "_view_module": "@jupyter-widgets/base",
            "_view_module_version": "1.2.0",
            "_view_name": "LayoutView",
            "align_content": null,
            "align_items": null,
            "align_self": null,
            "border": null,
            "bottom": null,
            "display": null,
            "flex": null,
            "flex_flow": null,
            "grid_area": null,
            "grid_auto_columns": null,
            "grid_auto_flow": null,
            "grid_auto_rows": null,
            "grid_column": null,
            "grid_gap": null,
            "grid_row": null,
            "grid_template_areas": null,
            "grid_template_columns": null,
            "grid_template_rows": null,
            "height": null,
            "justify_content": null,
            "justify_items": null,
            "left": null,
            "margin": null,
            "max_height": null,
            "max_width": null,
            "min_height": null,
            "min_width": null,
            "object_fit": null,
            "object_position": null,
            "order": null,
            "overflow": null,
            "overflow_x": null,
            "overflow_y": null,
            "padding": null,
            "right": null,
            "top": null,
            "visibility": null,
            "width": null
          }
        },
        "3a755d85243f461d83d55c7898c666c5": {
          "model_module": "@jupyter-widgets/controls",
          "model_name": "DescriptionStyleModel",
          "model_module_version": "1.5.0",
          "state": {
            "_model_module": "@jupyter-widgets/controls",
            "_model_module_version": "1.5.0",
            "_model_name": "DescriptionStyleModel",
            "_view_count": null,
            "_view_module": "@jupyter-widgets/base",
            "_view_module_version": "1.2.0",
            "_view_name": "StyleView",
            "description_width": ""
          }
        },
        "1aaf7fa563684020ae0459adf381f162": {
          "model_module": "@jupyter-widgets/base",
          "model_name": "LayoutModel",
          "model_module_version": "1.2.0",
          "state": {
            "_model_module": "@jupyter-widgets/base",
            "_model_module_version": "1.2.0",
            "_model_name": "LayoutModel",
            "_view_count": null,
            "_view_module": "@jupyter-widgets/base",
            "_view_module_version": "1.2.0",
            "_view_name": "LayoutView",
            "align_content": null,
            "align_items": null,
            "align_self": null,
            "border": null,
            "bottom": null,
            "display": null,
            "flex": null,
            "flex_flow": null,
            "grid_area": null,
            "grid_auto_columns": null,
            "grid_auto_flow": null,
            "grid_auto_rows": null,
            "grid_column": null,
            "grid_gap": null,
            "grid_row": null,
            "grid_template_areas": null,
            "grid_template_columns": null,
            "grid_template_rows": null,
            "height": null,
            "justify_content": null,
            "justify_items": null,
            "left": null,
            "margin": null,
            "max_height": null,
            "max_width": null,
            "min_height": null,
            "min_width": null,
            "object_fit": null,
            "object_position": null,
            "order": null,
            "overflow": null,
            "overflow_x": null,
            "overflow_y": null,
            "padding": null,
            "right": null,
            "top": null,
            "visibility": null,
            "width": null
          }
        },
        "ea573d083c6340d4847ba92c6b68f7f9": {
          "model_module": "@jupyter-widgets/controls",
          "model_name": "ProgressStyleModel",
          "model_module_version": "1.5.0",
          "state": {
            "_model_module": "@jupyter-widgets/controls",
            "_model_module_version": "1.5.0",
            "_model_name": "ProgressStyleModel",
            "_view_count": null,
            "_view_module": "@jupyter-widgets/base",
            "_view_module_version": "1.2.0",
            "_view_name": "StyleView",
            "bar_color": null,
            "description_width": ""
          }
        },
        "142563dcbf054c89af82d64c60f6d95e": {
          "model_module": "@jupyter-widgets/base",
          "model_name": "LayoutModel",
          "model_module_version": "1.2.0",
          "state": {
            "_model_module": "@jupyter-widgets/base",
            "_model_module_version": "1.2.0",
            "_model_name": "LayoutModel",
            "_view_count": null,
            "_view_module": "@jupyter-widgets/base",
            "_view_module_version": "1.2.0",
            "_view_name": "LayoutView",
            "align_content": null,
            "align_items": null,
            "align_self": null,
            "border": null,
            "bottom": null,
            "display": null,
            "flex": null,
            "flex_flow": null,
            "grid_area": null,
            "grid_auto_columns": null,
            "grid_auto_flow": null,
            "grid_auto_rows": null,
            "grid_column": null,
            "grid_gap": null,
            "grid_row": null,
            "grid_template_areas": null,
            "grid_template_columns": null,
            "grid_template_rows": null,
            "height": null,
            "justify_content": null,
            "justify_items": null,
            "left": null,
            "margin": null,
            "max_height": null,
            "max_width": null,
            "min_height": null,
            "min_width": null,
            "object_fit": null,
            "object_position": null,
            "order": null,
            "overflow": null,
            "overflow_x": null,
            "overflow_y": null,
            "padding": null,
            "right": null,
            "top": null,
            "visibility": null,
            "width": null
          }
        },
        "fbedd6e7b8da44dba9e7baf8826797e8": {
          "model_module": "@jupyter-widgets/controls",
          "model_name": "DescriptionStyleModel",
          "model_module_version": "1.5.0",
          "state": {
            "_model_module": "@jupyter-widgets/controls",
            "_model_module_version": "1.5.0",
            "_model_name": "DescriptionStyleModel",
            "_view_count": null,
            "_view_module": "@jupyter-widgets/base",
            "_view_module_version": "1.2.0",
            "_view_name": "StyleView",
            "description_width": ""
          }
        },
        "24baca94539248fda54b565ea4b515b9": {
          "model_module": "@jupyter-widgets/base",
          "model_name": "LayoutModel",
          "model_module_version": "1.2.0",
          "state": {
            "_model_module": "@jupyter-widgets/base",
            "_model_module_version": "1.2.0",
            "_model_name": "LayoutModel",
            "_view_count": null,
            "_view_module": "@jupyter-widgets/base",
            "_view_module_version": "1.2.0",
            "_view_name": "LayoutView",
            "align_content": null,
            "align_items": null,
            "align_self": null,
            "border": null,
            "bottom": null,
            "display": null,
            "flex": null,
            "flex_flow": null,
            "grid_area": null,
            "grid_auto_columns": null,
            "grid_auto_flow": null,
            "grid_auto_rows": null,
            "grid_column": null,
            "grid_gap": null,
            "grid_row": null,
            "grid_template_areas": null,
            "grid_template_columns": null,
            "grid_template_rows": null,
            "height": null,
            "justify_content": null,
            "justify_items": null,
            "left": null,
            "margin": null,
            "max_height": null,
            "max_width": null,
            "min_height": null,
            "min_width": null,
            "object_fit": null,
            "object_position": null,
            "order": null,
            "overflow": null,
            "overflow_x": null,
            "overflow_y": null,
            "padding": null,
            "right": null,
            "top": null,
            "visibility": null,
            "width": null
          }
        },
        "e7ea19bdb689401985acd7c26155ee66": {
          "model_module": "@jupyter-widgets/controls",
          "model_name": "DescriptionStyleModel",
          "model_module_version": "1.5.0",
          "state": {
            "_model_module": "@jupyter-widgets/controls",
            "_model_module_version": "1.5.0",
            "_model_name": "DescriptionStyleModel",
            "_view_count": null,
            "_view_module": "@jupyter-widgets/base",
            "_view_module_version": "1.2.0",
            "_view_name": "StyleView",
            "description_width": ""
          }
        },
        "d7ea4a55239a488a9a3ffca471449c53": {
          "model_module": "@jupyter-widgets/controls",
          "model_name": "HTMLModel",
          "model_module_version": "1.5.0",
          "state": {
            "_dom_classes": [],
            "_model_module": "@jupyter-widgets/controls",
            "_model_module_version": "1.5.0",
            "_model_name": "HTMLModel",
            "_view_count": null,
            "_view_module": "@jupyter-widgets/controls",
            "_view_module_version": "1.5.0",
            "_view_name": "HTMLView",
            "description": "",
            "description_tooltip": null,
            "layout": "IPY_MODEL_142563dcbf054c89af82d64c60f6d95e",
            "placeholder": "​",
            "style": "IPY_MODEL_fbedd6e7b8da44dba9e7baf8826797e8",
            "value": "Processing: 100%"
          }
        },
        "6f88f278279f4d7e95a94bf52f7a1028": {
          "model_module": "@jupyter-widgets/controls",
          "model_name": "FloatProgressModel",
          "model_module_version": "1.5.0",
          "state": {
            "_dom_classes": [],
            "_model_module": "@jupyter-widgets/controls",
            "_model_module_version": "1.5.0",
            "_model_name": "FloatProgressModel",
            "_view_count": null,
            "_view_module": "@jupyter-widgets/controls",
            "_view_module_version": "1.5.0",
            "_view_name": "ProgressView",
            "bar_style": "",
            "description": "",
            "description_tooltip": null,
            "layout": "IPY_MODEL_1aaf7fa563684020ae0459adf381f162",
            "max": 4,
            "min": 0,
            "orientation": "horizontal",
            "style": "IPY_MODEL_ea573d083c6340d4847ba92c6b68f7f9",
            "value": 4
          }
        },
        "13448ec0109d433295367d54efde8449": {
          "model_module": "@jupyter-widgets/controls",
          "model_name": "HTMLModel",
          "model_module_version": "1.5.0",
          "state": {
            "_dom_classes": [],
            "_model_module": "@jupyter-widgets/controls",
            "_model_module_version": "1.5.0",
            "_model_name": "HTMLModel",
            "_view_count": null,
            "_view_module": "@jupyter-widgets/controls",
            "_view_module_version": "1.5.0",
            "_view_name": "HTMLView",
            "description": "",
            "description_tooltip": null,
            "layout": "IPY_MODEL_24baca94539248fda54b565ea4b515b9",
            "placeholder": "​",
            "style": "IPY_MODEL_e7ea19bdb689401985acd7c26155ee66",
            "value": " 4/4 [00:06&lt;00:00,  1.58s/it]"
          }
        },
        "37472fab299947dc975935d006cc2c15": {
          "model_module": "@jupyter-widgets/base",
          "model_name": "LayoutModel",
          "model_module_version": "1.2.0",
          "state": {
            "_model_module": "@jupyter-widgets/base",
            "_model_module_version": "1.2.0",
            "_model_name": "LayoutModel",
            "_view_count": null,
            "_view_module": "@jupyter-widgets/base",
            "_view_module_version": "1.2.0",
            "_view_name": "LayoutView",
            "align_content": null,
            "align_items": null,
            "align_self": null,
            "border": null,
            "bottom": null,
            "display": null,
            "flex": null,
            "flex_flow": null,
            "grid_area": null,
            "grid_auto_columns": null,
            "grid_auto_flow": null,
            "grid_auto_rows": null,
            "grid_column": null,
            "grid_gap": null,
            "grid_row": null,
            "grid_template_areas": null,
            "grid_template_columns": null,
            "grid_template_rows": null,
            "height": null,
            "justify_content": null,
            "justify_items": null,
            "left": null,
            "margin": null,
            "max_height": null,
            "max_width": null,
            "min_height": null,
            "min_width": null,
            "object_fit": null,
            "object_position": null,
            "order": null,
            "overflow": null,
            "overflow_x": null,
            "overflow_y": null,
            "padding": null,
            "right": null,
            "top": null,
            "visibility": "hidden",
            "width": null
          }
        },
        "64acc0065a8148e8ae2e54d073ba432d": {
          "model_module": "@jupyter-widgets/controls",
          "model_name": "HBoxModel",
          "model_module_version": "1.5.0",
          "state": {
            "_dom_classes": [],
            "_model_module": "@jupyter-widgets/controls",
            "_model_module_version": "1.5.0",
            "_model_name": "HBoxModel",
            "_view_count": null,
            "_view_module": "@jupyter-widgets/controls",
            "_view_module_version": "1.5.0",
            "_view_name": "HBoxView",
            "box_style": "",
            "children": [
              "IPY_MODEL_d7ea4a55239a488a9a3ffca471449c53",
              "IPY_MODEL_6f88f278279f4d7e95a94bf52f7a1028",
              "IPY_MODEL_13448ec0109d433295367d54efde8449"
            ],
            "layout": "IPY_MODEL_37472fab299947dc975935d006cc2c15"
          }
        },
        "e394bf4e36a649c5b20561cdc6eeefe1": {
          "model_module": "@jupyter-widgets/base",
          "model_name": "LayoutModel",
          "model_module_version": "1.2.0",
          "state": {
            "_model_module": "@jupyter-widgets/base",
            "_model_module_version": "1.2.0",
            "_model_name": "LayoutModel",
            "_view_count": null,
            "_view_module": "@jupyter-widgets/base",
            "_view_module_version": "1.2.0",
            "_view_name": "LayoutView",
            "align_content": null,
            "align_items": null,
            "align_self": null,
            "border": null,
            "bottom": null,
            "display": null,
            "flex": null,
            "flex_flow": null,
            "grid_area": null,
            "grid_auto_columns": null,
            "grid_auto_flow": null,
            "grid_auto_rows": null,
            "grid_column": null,
            "grid_gap": null,
            "grid_row": null,
            "grid_template_areas": null,
            "grid_template_columns": null,
            "grid_template_rows": null,
            "height": null,
            "justify_content": null,
            "justify_items": null,
            "left": null,
            "margin": null,
            "max_height": null,
            "max_width": null,
            "min_height": null,
            "min_width": null,
            "object_fit": null,
            "object_position": null,
            "order": null,
            "overflow": null,
            "overflow_x": null,
            "overflow_y": null,
            "padding": null,
            "right": null,
            "top": null,
            "visibility": null,
            "width": null
          }
        },
        "fd980f3a839846e786b2005ebc4bddff": {
          "model_module": "@jupyter-widgets/controls",
          "model_name": "ProgressStyleModel",
          "model_module_version": "1.5.0",
          "state": {
            "_model_module": "@jupyter-widgets/controls",
            "_model_module_version": "1.5.0",
            "_model_name": "ProgressStyleModel",
            "_view_count": null,
            "_view_module": "@jupyter-widgets/base",
            "_view_module_version": "1.2.0",
            "_view_name": "StyleView",
            "bar_color": null,
            "description_width": ""
          }
        },
        "4262ec61f3d0411bb0d426cc8a72a8e5": {
          "model_module": "@jupyter-widgets/base",
          "model_name": "LayoutModel",
          "model_module_version": "1.2.0",
          "state": {
            "_model_module": "@jupyter-widgets/base",
            "_model_module_version": "1.2.0",
            "_model_name": "LayoutModel",
            "_view_count": null,
            "_view_module": "@jupyter-widgets/base",
            "_view_module_version": "1.2.0",
            "_view_name": "LayoutView",
            "align_content": null,
            "align_items": null,
            "align_self": null,
            "border": null,
            "bottom": null,
            "display": null,
            "flex": null,
            "flex_flow": null,
            "grid_area": null,
            "grid_auto_columns": null,
            "grid_auto_flow": null,
            "grid_auto_rows": null,
            "grid_column": null,
            "grid_gap": null,
            "grid_row": null,
            "grid_template_areas": null,
            "grid_template_columns": null,
            "grid_template_rows": null,
            "height": null,
            "justify_content": null,
            "justify_items": null,
            "left": null,
            "margin": null,
            "max_height": null,
            "max_width": null,
            "min_height": null,
            "min_width": null,
            "object_fit": null,
            "object_position": null,
            "order": null,
            "overflow": null,
            "overflow_x": null,
            "overflow_y": null,
            "padding": null,
            "right": null,
            "top": null,
            "visibility": null,
            "width": null
          }
        },
        "549744e65d924b20b90a83a5c4c10c26": {
          "model_module": "@jupyter-widgets/controls",
          "model_name": "DescriptionStyleModel",
          "model_module_version": "1.5.0",
          "state": {
            "_model_module": "@jupyter-widgets/controls",
            "_model_module_version": "1.5.0",
            "_model_name": "DescriptionStyleModel",
            "_view_count": null,
            "_view_module": "@jupyter-widgets/base",
            "_view_module_version": "1.2.0",
            "_view_name": "StyleView",
            "description_width": ""
          }
        },
        "7384ef6310af4ff7acf589c61bad7378": {
          "model_module": "@jupyter-widgets/base",
          "model_name": "LayoutModel",
          "model_module_version": "1.2.0",
          "state": {
            "_model_module": "@jupyter-widgets/base",
            "_model_module_version": "1.2.0",
            "_model_name": "LayoutModel",
            "_view_count": null,
            "_view_module": "@jupyter-widgets/base",
            "_view_module_version": "1.2.0",
            "_view_name": "LayoutView",
            "align_content": null,
            "align_items": null,
            "align_self": null,
            "border": null,
            "bottom": null,
            "display": null,
            "flex": null,
            "flex_flow": null,
            "grid_area": null,
            "grid_auto_columns": null,
            "grid_auto_flow": null,
            "grid_auto_rows": null,
            "grid_column": null,
            "grid_gap": null,
            "grid_row": null,
            "grid_template_areas": null,
            "grid_template_columns": null,
            "grid_template_rows": null,
            "height": null,
            "justify_content": null,
            "justify_items": null,
            "left": null,
            "margin": null,
            "max_height": null,
            "max_width": null,
            "min_height": null,
            "min_width": null,
            "object_fit": null,
            "object_position": null,
            "order": null,
            "overflow": null,
            "overflow_x": null,
            "overflow_y": null,
            "padding": null,
            "right": null,
            "top": null,
            "visibility": null,
            "width": null
          }
        },
        "b806325cf43945079584ad1ff3e47060": {
          "model_module": "@jupyter-widgets/controls",
          "model_name": "DescriptionStyleModel",
          "model_module_version": "1.5.0",
          "state": {
            "_model_module": "@jupyter-widgets/controls",
            "_model_module_version": "1.5.0",
            "_model_name": "DescriptionStyleModel",
            "_view_count": null,
            "_view_module": "@jupyter-widgets/base",
            "_view_module_version": "1.2.0",
            "_view_name": "StyleView",
            "description_width": ""
          }
        },
        "3c0952f128f14d78a16a60e335f4d209": {
          "model_module": "@jupyter-widgets/controls",
          "model_name": "HTMLModel",
          "model_module_version": "1.5.0",
          "state": {
            "_dom_classes": [],
            "_model_module": "@jupyter-widgets/controls",
            "_model_module_version": "1.5.0",
            "_model_name": "HTMLModel",
            "_view_count": null,
            "_view_module": "@jupyter-widgets/controls",
            "_view_module_version": "1.5.0",
            "_view_name": "HTMLView",
            "description": "",
            "description_tooltip": null,
            "layout": "IPY_MODEL_4262ec61f3d0411bb0d426cc8a72a8e5",
            "placeholder": "​",
            "style": "IPY_MODEL_549744e65d924b20b90a83a5c4c10c26",
            "value": "Processing: 100%"
          }
        },
        "5075959b12394dfb813fef9d51697118": {
          "model_module": "@jupyter-widgets/controls",
          "model_name": "FloatProgressModel",
          "model_module_version": "1.5.0",
          "state": {
            "_dom_classes": [],
            "_model_module": "@jupyter-widgets/controls",
            "_model_module_version": "1.5.0",
            "_model_name": "FloatProgressModel",
            "_view_count": null,
            "_view_module": "@jupyter-widgets/controls",
            "_view_module_version": "1.5.0",
            "_view_name": "ProgressView",
            "bar_style": "",
            "description": "",
            "description_tooltip": null,
            "layout": "IPY_MODEL_e394bf4e36a649c5b20561cdc6eeefe1",
            "max": 4,
            "min": 0,
            "orientation": "horizontal",
            "style": "IPY_MODEL_fd980f3a839846e786b2005ebc4bddff",
            "value": 4
          }
        },
        "4d435845c16246a1a681e0c5289a561f": {
          "model_module": "@jupyter-widgets/controls",
          "model_name": "HTMLModel",
          "model_module_version": "1.5.0",
          "state": {
            "_dom_classes": [],
            "_model_module": "@jupyter-widgets/controls",
            "_model_module_version": "1.5.0",
            "_model_name": "HTMLModel",
            "_view_count": null,
            "_view_module": "@jupyter-widgets/controls",
            "_view_module_version": "1.5.0",
            "_view_name": "HTMLView",
            "description": "",
            "description_tooltip": null,
            "layout": "IPY_MODEL_7384ef6310af4ff7acf589c61bad7378",
            "placeholder": "​",
            "style": "IPY_MODEL_b806325cf43945079584ad1ff3e47060",
            "value": " 4/4 [00:15&lt;00:00,  3.58s/it]"
          }
        },
        "423449ef4f504badb47480c9d410dd72": {
          "model_module": "@jupyter-widgets/base",
          "model_name": "LayoutModel",
          "model_module_version": "1.2.0",
          "state": {
            "_model_module": "@jupyter-widgets/base",
            "_model_module_version": "1.2.0",
            "_model_name": "LayoutModel",
            "_view_count": null,
            "_view_module": "@jupyter-widgets/base",
            "_view_module_version": "1.2.0",
            "_view_name": "LayoutView",
            "align_content": null,
            "align_items": null,
            "align_self": null,
            "border": null,
            "bottom": null,
            "display": null,
            "flex": null,
            "flex_flow": null,
            "grid_area": null,
            "grid_auto_columns": null,
            "grid_auto_flow": null,
            "grid_auto_rows": null,
            "grid_column": null,
            "grid_gap": null,
            "grid_row": null,
            "grid_template_areas": null,
            "grid_template_columns": null,
            "grid_template_rows": null,
            "height": null,
            "justify_content": null,
            "justify_items": null,
            "left": null,
            "margin": null,
            "max_height": null,
            "max_width": null,
            "min_height": null,
            "min_width": null,
            "object_fit": null,
            "object_position": null,
            "order": null,
            "overflow": null,
            "overflow_x": null,
            "overflow_y": null,
            "padding": null,
            "right": null,
            "top": null,
            "visibility": "hidden",
            "width": null
          }
        },
        "2c73c6945cba4237ae9dc18f42ee93d8": {
          "model_module": "@jupyter-widgets/controls",
          "model_name": "HBoxModel",
          "model_module_version": "1.5.0",
          "state": {
            "_dom_classes": [],
            "_model_module": "@jupyter-widgets/controls",
            "_model_module_version": "1.5.0",
            "_model_name": "HBoxModel",
            "_view_count": null,
            "_view_module": "@jupyter-widgets/controls",
            "_view_module_version": "1.5.0",
            "_view_name": "HBoxView",
            "box_style": "",
            "children": [
              "IPY_MODEL_3c0952f128f14d78a16a60e335f4d209",
              "IPY_MODEL_5075959b12394dfb813fef9d51697118",
              "IPY_MODEL_4d435845c16246a1a681e0c5289a561f"
            ],
            "layout": "IPY_MODEL_423449ef4f504badb47480c9d410dd72"
          }
        },
        "fa14e9007207489c9f33ba1fffae8a81": {
          "model_module": "@jupyter-widgets/controls",
          "model_name": "HBoxModel",
          "model_module_version": "1.5.0",
          "state": {
            "_dom_classes": [],
            "_model_module": "@jupyter-widgets/controls",
            "_model_module_version": "1.5.0",
            "_model_name": "HBoxModel",
            "_view_count": null,
            "_view_module": "@jupyter-widgets/controls",
            "_view_module_version": "1.5.0",
            "_view_name": "HBoxView",
            "box_style": "",
            "children": [
              "IPY_MODEL_27e6e4406586476e8c0514da8e34edc8",
              "IPY_MODEL_b8fd4febc8e442a4ba870c9d4e1d673d",
              "IPY_MODEL_39fe8ca59a09450e868de1f395ffa95a"
            ],
            "layout": "IPY_MODEL_5760f1e8453e4ef8860c7e1c95fa66f9"
          }
        },
        "27e6e4406586476e8c0514da8e34edc8": {
          "model_module": "@jupyter-widgets/controls",
          "model_name": "HTMLModel",
          "model_module_version": "1.5.0",
          "state": {
            "_dom_classes": [],
            "_model_module": "@jupyter-widgets/controls",
            "_model_module_version": "1.5.0",
            "_model_name": "HTMLModel",
            "_view_count": null,
            "_view_module": "@jupyter-widgets/controls",
            "_view_module_version": "1.5.0",
            "_view_name": "HTMLView",
            "description": "",
            "description_tooltip": null,
            "layout": "IPY_MODEL_6fa6e2386d344614b271df22431e4fbe",
            "placeholder": "​",
            "style": "IPY_MODEL_70ea47b5750f4f788d3288de592008be",
            "value": "Processing: 100%"
          }
        },
        "b8fd4febc8e442a4ba870c9d4e1d673d": {
          "model_module": "@jupyter-widgets/controls",
          "model_name": "FloatProgressModel",
          "model_module_version": "1.5.0",
          "state": {
            "_dom_classes": [],
            "_model_module": "@jupyter-widgets/controls",
            "_model_module_version": "1.5.0",
            "_model_name": "FloatProgressModel",
            "_view_count": null,
            "_view_module": "@jupyter-widgets/controls",
            "_view_module_version": "1.5.0",
            "_view_name": "ProgressView",
            "bar_style": "",
            "description": "",
            "description_tooltip": null,
            "layout": "IPY_MODEL_38026aeba6124f9dba769a8332dc679d",
            "max": 4,
            "min": 0,
            "orientation": "horizontal",
            "style": "IPY_MODEL_eaf7f7357e9d49619d69bda7d4190777",
            "value": 4
          }
        },
        "39fe8ca59a09450e868de1f395ffa95a": {
          "model_module": "@jupyter-widgets/controls",
          "model_name": "HTMLModel",
          "model_module_version": "1.5.0",
          "state": {
            "_dom_classes": [],
            "_model_module": "@jupyter-widgets/controls",
            "_model_module_version": "1.5.0",
            "_model_name": "HTMLModel",
            "_view_count": null,
            "_view_module": "@jupyter-widgets/controls",
            "_view_module_version": "1.5.0",
            "_view_name": "HTMLView",
            "description": "",
            "description_tooltip": null,
            "layout": "IPY_MODEL_770f7258fcb94511843fabeccace12e1",
            "placeholder": "​",
            "style": "IPY_MODEL_c887893590fe430c8e49e8ff75bf5fbe",
            "value": " 4/4 [00:18&lt;00:00,  4.38s/it]"
          }
        },
        "5760f1e8453e4ef8860c7e1c95fa66f9": {
          "model_module": "@jupyter-widgets/base",
          "model_name": "LayoutModel",
          "model_module_version": "1.2.0",
          "state": {
            "_model_module": "@jupyter-widgets/base",
            "_model_module_version": "1.2.0",
            "_model_name": "LayoutModel",
            "_view_count": null,
            "_view_module": "@jupyter-widgets/base",
            "_view_module_version": "1.2.0",
            "_view_name": "LayoutView",
            "align_content": null,
            "align_items": null,
            "align_self": null,
            "border": null,
            "bottom": null,
            "display": null,
            "flex": null,
            "flex_flow": null,
            "grid_area": null,
            "grid_auto_columns": null,
            "grid_auto_flow": null,
            "grid_auto_rows": null,
            "grid_column": null,
            "grid_gap": null,
            "grid_row": null,
            "grid_template_areas": null,
            "grid_template_columns": null,
            "grid_template_rows": null,
            "height": null,
            "justify_content": null,
            "justify_items": null,
            "left": null,
            "margin": null,
            "max_height": null,
            "max_width": null,
            "min_height": null,
            "min_width": null,
            "object_fit": null,
            "object_position": null,
            "order": null,
            "overflow": null,
            "overflow_x": null,
            "overflow_y": null,
            "padding": null,
            "right": null,
            "top": null,
            "visibility": "hidden",
            "width": null
          }
        },
        "6fa6e2386d344614b271df22431e4fbe": {
          "model_module": "@jupyter-widgets/base",
          "model_name": "LayoutModel",
          "model_module_version": "1.2.0",
          "state": {
            "_model_module": "@jupyter-widgets/base",
            "_model_module_version": "1.2.0",
            "_model_name": "LayoutModel",
            "_view_count": null,
            "_view_module": "@jupyter-widgets/base",
            "_view_module_version": "1.2.0",
            "_view_name": "LayoutView",
            "align_content": null,
            "align_items": null,
            "align_self": null,
            "border": null,
            "bottom": null,
            "display": null,
            "flex": null,
            "flex_flow": null,
            "grid_area": null,
            "grid_auto_columns": null,
            "grid_auto_flow": null,
            "grid_auto_rows": null,
            "grid_column": null,
            "grid_gap": null,
            "grid_row": null,
            "grid_template_areas": null,
            "grid_template_columns": null,
            "grid_template_rows": null,
            "height": null,
            "justify_content": null,
            "justify_items": null,
            "left": null,
            "margin": null,
            "max_height": null,
            "max_width": null,
            "min_height": null,
            "min_width": null,
            "object_fit": null,
            "object_position": null,
            "order": null,
            "overflow": null,
            "overflow_x": null,
            "overflow_y": null,
            "padding": null,
            "right": null,
            "top": null,
            "visibility": null,
            "width": null
          }
        },
        "70ea47b5750f4f788d3288de592008be": {
          "model_module": "@jupyter-widgets/controls",
          "model_name": "DescriptionStyleModel",
          "model_module_version": "1.5.0",
          "state": {
            "_model_module": "@jupyter-widgets/controls",
            "_model_module_version": "1.5.0",
            "_model_name": "DescriptionStyleModel",
            "_view_count": null,
            "_view_module": "@jupyter-widgets/base",
            "_view_module_version": "1.2.0",
            "_view_name": "StyleView",
            "description_width": ""
          }
        },
        "38026aeba6124f9dba769a8332dc679d": {
          "model_module": "@jupyter-widgets/base",
          "model_name": "LayoutModel",
          "model_module_version": "1.2.0",
          "state": {
            "_model_module": "@jupyter-widgets/base",
            "_model_module_version": "1.2.0",
            "_model_name": "LayoutModel",
            "_view_count": null,
            "_view_module": "@jupyter-widgets/base",
            "_view_module_version": "1.2.0",
            "_view_name": "LayoutView",
            "align_content": null,
            "align_items": null,
            "align_self": null,
            "border": null,
            "bottom": null,
            "display": null,
            "flex": null,
            "flex_flow": null,
            "grid_area": null,
            "grid_auto_columns": null,
            "grid_auto_flow": null,
            "grid_auto_rows": null,
            "grid_column": null,
            "grid_gap": null,
            "grid_row": null,
            "grid_template_areas": null,
            "grid_template_columns": null,
            "grid_template_rows": null,
            "height": null,
            "justify_content": null,
            "justify_items": null,
            "left": null,
            "margin": null,
            "max_height": null,
            "max_width": null,
            "min_height": null,
            "min_width": null,
            "object_fit": null,
            "object_position": null,
            "order": null,
            "overflow": null,
            "overflow_x": null,
            "overflow_y": null,
            "padding": null,
            "right": null,
            "top": null,
            "visibility": null,
            "width": null
          }
        },
        "eaf7f7357e9d49619d69bda7d4190777": {
          "model_module": "@jupyter-widgets/controls",
          "model_name": "ProgressStyleModel",
          "model_module_version": "1.5.0",
          "state": {
            "_model_module": "@jupyter-widgets/controls",
            "_model_module_version": "1.5.0",
            "_model_name": "ProgressStyleModel",
            "_view_count": null,
            "_view_module": "@jupyter-widgets/base",
            "_view_module_version": "1.2.0",
            "_view_name": "StyleView",
            "bar_color": null,
            "description_width": ""
          }
        },
        "770f7258fcb94511843fabeccace12e1": {
          "model_module": "@jupyter-widgets/base",
          "model_name": "LayoutModel",
          "model_module_version": "1.2.0",
          "state": {
            "_model_module": "@jupyter-widgets/base",
            "_model_module_version": "1.2.0",
            "_model_name": "LayoutModel",
            "_view_count": null,
            "_view_module": "@jupyter-widgets/base",
            "_view_module_version": "1.2.0",
            "_view_name": "LayoutView",
            "align_content": null,
            "align_items": null,
            "align_self": null,
            "border": null,
            "bottom": null,
            "display": null,
            "flex": null,
            "flex_flow": null,
            "grid_area": null,
            "grid_auto_columns": null,
            "grid_auto_flow": null,
            "grid_auto_rows": null,
            "grid_column": null,
            "grid_gap": null,
            "grid_row": null,
            "grid_template_areas": null,
            "grid_template_columns": null,
            "grid_template_rows": null,
            "height": null,
            "justify_content": null,
            "justify_items": null,
            "left": null,
            "margin": null,
            "max_height": null,
            "max_width": null,
            "min_height": null,
            "min_width": null,
            "object_fit": null,
            "object_position": null,
            "order": null,
            "overflow": null,
            "overflow_x": null,
            "overflow_y": null,
            "padding": null,
            "right": null,
            "top": null,
            "visibility": null,
            "width": null
          }
        },
        "c887893590fe430c8e49e8ff75bf5fbe": {
          "model_module": "@jupyter-widgets/controls",
          "model_name": "DescriptionStyleModel",
          "model_module_version": "1.5.0",
          "state": {
            "_model_module": "@jupyter-widgets/controls",
            "_model_module_version": "1.5.0",
            "_model_name": "DescriptionStyleModel",
            "_view_count": null,
            "_view_module": "@jupyter-widgets/base",
            "_view_module_version": "1.2.0",
            "_view_name": "StyleView",
            "description_width": ""
          }
        }
      }
    }
  },
  "cells": [
    {
      "cell_type": "markdown",
      "metadata": {
        "id": "C5XhFbC35VHu"
      },
      "source": [
        "### <span style='color:DarkBlue'>1.1 Data loading</span>"
      ]
    },
    {
      "cell_type": "code",
      "metadata": {
        "id": "ejt812ml5uJb"
      },
      "source": [
        "! pip install pycaret"
      ],
      "execution_count": null,
      "outputs": []
    },
    {
      "cell_type": "code",
      "metadata": {
        "id": "VfZBXxFn5VHv"
      },
      "source": [
        "import pandas as pd\n",
        "# We shall import the dataset which is nasa.csv file to implement our project\n",
        "df = pd.read_csv(\"nasa.csv\")\n",
        "#We are dropping the columns which seem to be repititve in our case. Like the measurement sin miles and kms are redundant. Only one of the units\n",
        "# is sufficient in our case\n",
        "#Values like orbit determination date are not very much needed and can be discarded\n",
        "df = df.drop(columns=['Close Approach Date','Orbit Determination Date','Neo Reference ID', 'Name', 'Orbiting Body', 'Orbit ID',\n",
        "                      'Orbit Determination Date', 'Equinox',\"Est Dia in KM(max)\",'Est Dia in Feet(max)','Est Dia in M(min)',\n",
        "                      'Est Dia in M(max)',\"Est Dia in Miles(min)\",\"Est Dia in Miles(max)\",\"Est Dia in Feet(min)\",\"Est Dia in Feet(min)\",\n",
        "                      'Relative Velocity km per hr',\"Miles per hour\",\"Miss Dist.(lunar)\",\"Miss Dist.(kilometers)\",\"Miss Dist.(miles)\"])"
      ],
      "execution_count": 21,
      "outputs": []
    },
    {
      "cell_type": "code",
      "source": [
        "# We are converting the values to numerical values\n",
        "# +ve cases is 1 and -ve cases is 0\n",
        "df['Hazardous'] = df['Hazardous'].astype('int64')"
      ],
      "metadata": {
        "id": "J2KXhFbu49DV"
      },
      "execution_count": 22,
      "outputs": []
    },
    {
      "cell_type": "markdown",
      "metadata": {
        "id": "mSLMAWh-5VHw"
      },
      "source": [
        "#### Get the dimention of dataset"
      ]
    },
    {
      "cell_type": "code",
      "metadata": {
        "id": "n7Ti0XNL5VHw",
        "colab": {
          "base_uri": "https://localhost:8080/"
        },
        "outputId": "9cd5fc75-2f9d-4770-8c5c-5fce4ddcb2c5"
      },
      "source": [
        "df.shape"
      ],
      "execution_count": 23,
      "outputs": [
        {
          "output_type": "execute_result",
          "data": {
            "text/plain": [
              "(4687, 21)"
            ]
          },
          "metadata": {},
          "execution_count": 23
        }
      ]
    },
    {
      "cell_type": "markdown",
      "metadata": {
        "id": "6nJ1nBe35VHw"
      },
      "source": [
        "#### Setup parameters for classification models (defaults)"
      ]
    },
    {
      "cell_type": "code",
      "source": [
        "pcaClassifier = setup(data=df, target='Hazardous', pca = True, pca_method='linear', remove_outliers=True, outliers_threshold=0.05)\n",
        "compare_models()"
      ],
      "metadata": {
        "colab": {
          "base_uri": "https://localhost:8080/",
          "height": 1000,
          "referenced_widgets": [
            "35479ea19b7d4dea944a4a364fa12030",
            "46d98fd95a5245c2be478121f7b818d0",
            "059961a331f04e27a2f98f7cc117ee18",
            "aeaf0c66662146628a77c159496baa18",
            "812ac9b5ff8d45ea82adce167d385a99",
            "f2c88c28fcee4452ba6c5574dddc742c",
            "96b979559d8245c186e57c87f7d79ae7",
            "0c56fe9b31304292ab7a8cf850027020",
            "fee9bb1f65db442b8f63cb9de903e6b9",
            "ccbed735b7584a57be4268eacc438fc2",
            "dc600c34437c482e84427f595c815973"
          ]
        },
        "id": "Z6RYNUdk6kwY",
        "outputId": "f375c7cf-6299-4ade-bd26-da4bdb7d0b47"
      },
      "execution_count": 26,
      "outputs": [
        {
          "output_type": "display_data",
          "data": {
            "text/plain": [
              "<pandas.io.formats.style.Styler at 0x79a1d6e1d480>"
            ],
            "text/html": [
              "<style type=\"text/css\">\n",
              "#T_b1080_row8_col1, #T_b1080_row12_col1, #T_b1080_row14_col1 {\n",
              "  background-color: lightgreen;\n",
              "}\n",
              "</style>\n",
              "<table id=\"T_b1080\" class=\"dataframe\">\n",
              "  <thead>\n",
              "    <tr>\n",
              "      <th class=\"blank level0\" >&nbsp;</th>\n",
              "      <th id=\"T_b1080_level0_col0\" class=\"col_heading level0 col0\" >Description</th>\n",
              "      <th id=\"T_b1080_level0_col1\" class=\"col_heading level0 col1\" >Value</th>\n",
              "    </tr>\n",
              "  </thead>\n",
              "  <tbody>\n",
              "    <tr>\n",
              "      <th id=\"T_b1080_level0_row0\" class=\"row_heading level0 row0\" >0</th>\n",
              "      <td id=\"T_b1080_row0_col0\" class=\"data row0 col0\" >Session id</td>\n",
              "      <td id=\"T_b1080_row0_col1\" class=\"data row0 col1\" >3485</td>\n",
              "    </tr>\n",
              "    <tr>\n",
              "      <th id=\"T_b1080_level0_row1\" class=\"row_heading level0 row1\" >1</th>\n",
              "      <td id=\"T_b1080_row1_col0\" class=\"data row1 col0\" >Target</td>\n",
              "      <td id=\"T_b1080_row1_col1\" class=\"data row1 col1\" >Hazardous</td>\n",
              "    </tr>\n",
              "    <tr>\n",
              "      <th id=\"T_b1080_level0_row2\" class=\"row_heading level0 row2\" >2</th>\n",
              "      <td id=\"T_b1080_row2_col0\" class=\"data row2 col0\" >Target type</td>\n",
              "      <td id=\"T_b1080_row2_col1\" class=\"data row2 col1\" >Binary</td>\n",
              "    </tr>\n",
              "    <tr>\n",
              "      <th id=\"T_b1080_level0_row3\" class=\"row_heading level0 row3\" >3</th>\n",
              "      <td id=\"T_b1080_row3_col0\" class=\"data row3 col0\" >Original data shape</td>\n",
              "      <td id=\"T_b1080_row3_col1\" class=\"data row3 col1\" >(4687, 21)</td>\n",
              "    </tr>\n",
              "    <tr>\n",
              "      <th id=\"T_b1080_level0_row4\" class=\"row_heading level0 row4\" >4</th>\n",
              "      <td id=\"T_b1080_row4_col0\" class=\"data row4 col0\" >Transformed data shape</td>\n",
              "      <td id=\"T_b1080_row4_col1\" class=\"data row4 col1\" >(4523, 21)</td>\n",
              "    </tr>\n",
              "    <tr>\n",
              "      <th id=\"T_b1080_level0_row5\" class=\"row_heading level0 row5\" >5</th>\n",
              "      <td id=\"T_b1080_row5_col0\" class=\"data row5 col0\" >Transformed train set shape</td>\n",
              "      <td id=\"T_b1080_row5_col1\" class=\"data row5 col1\" >(3116, 21)</td>\n",
              "    </tr>\n",
              "    <tr>\n",
              "      <th id=\"T_b1080_level0_row6\" class=\"row_heading level0 row6\" >6</th>\n",
              "      <td id=\"T_b1080_row6_col0\" class=\"data row6 col0\" >Transformed test set shape</td>\n",
              "      <td id=\"T_b1080_row6_col1\" class=\"data row6 col1\" >(1407, 21)</td>\n",
              "    </tr>\n",
              "    <tr>\n",
              "      <th id=\"T_b1080_level0_row7\" class=\"row_heading level0 row7\" >7</th>\n",
              "      <td id=\"T_b1080_row7_col0\" class=\"data row7 col0\" >Numeric features</td>\n",
              "      <td id=\"T_b1080_row7_col1\" class=\"data row7 col1\" >20</td>\n",
              "    </tr>\n",
              "    <tr>\n",
              "      <th id=\"T_b1080_level0_row8\" class=\"row_heading level0 row8\" >8</th>\n",
              "      <td id=\"T_b1080_row8_col0\" class=\"data row8 col0\" >Preprocess</td>\n",
              "      <td id=\"T_b1080_row8_col1\" class=\"data row8 col1\" >True</td>\n",
              "    </tr>\n",
              "    <tr>\n",
              "      <th id=\"T_b1080_level0_row9\" class=\"row_heading level0 row9\" >9</th>\n",
              "      <td id=\"T_b1080_row9_col0\" class=\"data row9 col0\" >Imputation type</td>\n",
              "      <td id=\"T_b1080_row9_col1\" class=\"data row9 col1\" >simple</td>\n",
              "    </tr>\n",
              "    <tr>\n",
              "      <th id=\"T_b1080_level0_row10\" class=\"row_heading level0 row10\" >10</th>\n",
              "      <td id=\"T_b1080_row10_col0\" class=\"data row10 col0\" >Numeric imputation</td>\n",
              "      <td id=\"T_b1080_row10_col1\" class=\"data row10 col1\" >mean</td>\n",
              "    </tr>\n",
              "    <tr>\n",
              "      <th id=\"T_b1080_level0_row11\" class=\"row_heading level0 row11\" >11</th>\n",
              "      <td id=\"T_b1080_row11_col0\" class=\"data row11 col0\" >Categorical imputation</td>\n",
              "      <td id=\"T_b1080_row11_col1\" class=\"data row11 col1\" >mode</td>\n",
              "    </tr>\n",
              "    <tr>\n",
              "      <th id=\"T_b1080_level0_row12\" class=\"row_heading level0 row12\" >12</th>\n",
              "      <td id=\"T_b1080_row12_col0\" class=\"data row12 col0\" >Remove outliers</td>\n",
              "      <td id=\"T_b1080_row12_col1\" class=\"data row12 col1\" >True</td>\n",
              "    </tr>\n",
              "    <tr>\n",
              "      <th id=\"T_b1080_level0_row13\" class=\"row_heading level0 row13\" >13</th>\n",
              "      <td id=\"T_b1080_row13_col0\" class=\"data row13 col0\" >Outliers threshold</td>\n",
              "      <td id=\"T_b1080_row13_col1\" class=\"data row13 col1\" >0.050000</td>\n",
              "    </tr>\n",
              "    <tr>\n",
              "      <th id=\"T_b1080_level0_row14\" class=\"row_heading level0 row14\" >14</th>\n",
              "      <td id=\"T_b1080_row14_col0\" class=\"data row14 col0\" >PCA</td>\n",
              "      <td id=\"T_b1080_row14_col1\" class=\"data row14 col1\" >True</td>\n",
              "    </tr>\n",
              "    <tr>\n",
              "      <th id=\"T_b1080_level0_row15\" class=\"row_heading level0 row15\" >15</th>\n",
              "      <td id=\"T_b1080_row15_col0\" class=\"data row15 col0\" >PCA method</td>\n",
              "      <td id=\"T_b1080_row15_col1\" class=\"data row15 col1\" >linear</td>\n",
              "    </tr>\n",
              "    <tr>\n",
              "      <th id=\"T_b1080_level0_row16\" class=\"row_heading level0 row16\" >16</th>\n",
              "      <td id=\"T_b1080_row16_col0\" class=\"data row16 col0\" >PCA components</td>\n",
              "      <td id=\"T_b1080_row16_col1\" class=\"data row16 col1\" >None</td>\n",
              "    </tr>\n",
              "    <tr>\n",
              "      <th id=\"T_b1080_level0_row17\" class=\"row_heading level0 row17\" >17</th>\n",
              "      <td id=\"T_b1080_row17_col0\" class=\"data row17 col0\" >Fold Generator</td>\n",
              "      <td id=\"T_b1080_row17_col1\" class=\"data row17 col1\" >StratifiedKFold</td>\n",
              "    </tr>\n",
              "    <tr>\n",
              "      <th id=\"T_b1080_level0_row18\" class=\"row_heading level0 row18\" >18</th>\n",
              "      <td id=\"T_b1080_row18_col0\" class=\"data row18 col0\" >Fold Number</td>\n",
              "      <td id=\"T_b1080_row18_col1\" class=\"data row18 col1\" >10</td>\n",
              "    </tr>\n",
              "    <tr>\n",
              "      <th id=\"T_b1080_level0_row19\" class=\"row_heading level0 row19\" >19</th>\n",
              "      <td id=\"T_b1080_row19_col0\" class=\"data row19 col0\" >CPU Jobs</td>\n",
              "      <td id=\"T_b1080_row19_col1\" class=\"data row19 col1\" >-1</td>\n",
              "    </tr>\n",
              "    <tr>\n",
              "      <th id=\"T_b1080_level0_row20\" class=\"row_heading level0 row20\" >20</th>\n",
              "      <td id=\"T_b1080_row20_col0\" class=\"data row20 col0\" >Use GPU</td>\n",
              "      <td id=\"T_b1080_row20_col1\" class=\"data row20 col1\" >False</td>\n",
              "    </tr>\n",
              "    <tr>\n",
              "      <th id=\"T_b1080_level0_row21\" class=\"row_heading level0 row21\" >21</th>\n",
              "      <td id=\"T_b1080_row21_col0\" class=\"data row21 col0\" >Log Experiment</td>\n",
              "      <td id=\"T_b1080_row21_col1\" class=\"data row21 col1\" >False</td>\n",
              "    </tr>\n",
              "    <tr>\n",
              "      <th id=\"T_b1080_level0_row22\" class=\"row_heading level0 row22\" >22</th>\n",
              "      <td id=\"T_b1080_row22_col0\" class=\"data row22 col0\" >Experiment Name</td>\n",
              "      <td id=\"T_b1080_row22_col1\" class=\"data row22 col1\" >clf-default-name</td>\n",
              "    </tr>\n",
              "    <tr>\n",
              "      <th id=\"T_b1080_level0_row23\" class=\"row_heading level0 row23\" >23</th>\n",
              "      <td id=\"T_b1080_row23_col0\" class=\"data row23 col0\" >USI</td>\n",
              "      <td id=\"T_b1080_row23_col1\" class=\"data row23 col1\" >e48c</td>\n",
              "    </tr>\n",
              "  </tbody>\n",
              "</table>\n"
            ]
          },
          "metadata": {}
        },
        {
          "output_type": "display_data",
          "data": {
            "text/plain": [
              "<IPython.core.display.HTML object>"
            ],
            "text/html": []
          },
          "metadata": {}
        },
        {
          "output_type": "display_data",
          "data": {
            "text/plain": [
              "<pandas.io.formats.style.Styler at 0x79a243d64d60>"
            ],
            "text/html": [
              "<style type=\"text/css\">\n",
              "#T_f0bb2 th {\n",
              "  text-align: left;\n",
              "}\n",
              "#T_f0bb2_row0_col0, #T_f0bb2_row0_col2, #T_f0bb2_row0_col4, #T_f0bb2_row1_col0, #T_f0bb2_row1_col1, #T_f0bb2_row1_col3, #T_f0bb2_row1_col4, #T_f0bb2_row1_col5, #T_f0bb2_row1_col6, #T_f0bb2_row1_col7, #T_f0bb2_row2_col0, #T_f0bb2_row2_col1, #T_f0bb2_row2_col2, #T_f0bb2_row2_col3, #T_f0bb2_row2_col4, #T_f0bb2_row2_col5, #T_f0bb2_row2_col6, #T_f0bb2_row2_col7, #T_f0bb2_row3_col0, #T_f0bb2_row3_col1, #T_f0bb2_row3_col2, #T_f0bb2_row3_col3, #T_f0bb2_row3_col4, #T_f0bb2_row3_col5, #T_f0bb2_row3_col6, #T_f0bb2_row3_col7, #T_f0bb2_row4_col0, #T_f0bb2_row4_col1, #T_f0bb2_row4_col2, #T_f0bb2_row4_col3, #T_f0bb2_row4_col4, #T_f0bb2_row4_col5, #T_f0bb2_row4_col6, #T_f0bb2_row4_col7, #T_f0bb2_row5_col0, #T_f0bb2_row5_col1, #T_f0bb2_row5_col2, #T_f0bb2_row5_col3, #T_f0bb2_row5_col4, #T_f0bb2_row5_col5, #T_f0bb2_row5_col6, #T_f0bb2_row5_col7, #T_f0bb2_row6_col0, #T_f0bb2_row6_col1, #T_f0bb2_row6_col2, #T_f0bb2_row6_col3, #T_f0bb2_row6_col5, #T_f0bb2_row6_col6, #T_f0bb2_row6_col7, #T_f0bb2_row7_col0, #T_f0bb2_row7_col1, #T_f0bb2_row7_col2, #T_f0bb2_row7_col3, #T_f0bb2_row7_col4, #T_f0bb2_row7_col5, #T_f0bb2_row7_col6, #T_f0bb2_row7_col7, #T_f0bb2_row8_col0, #T_f0bb2_row8_col1, #T_f0bb2_row8_col2, #T_f0bb2_row8_col3, #T_f0bb2_row8_col4, #T_f0bb2_row8_col5, #T_f0bb2_row8_col6, #T_f0bb2_row8_col7, #T_f0bb2_row9_col0, #T_f0bb2_row9_col1, #T_f0bb2_row9_col2, #T_f0bb2_row9_col3, #T_f0bb2_row9_col4, #T_f0bb2_row9_col5, #T_f0bb2_row9_col6, #T_f0bb2_row9_col7, #T_f0bb2_row10_col0, #T_f0bb2_row10_col1, #T_f0bb2_row10_col2, #T_f0bb2_row10_col3, #T_f0bb2_row10_col4, #T_f0bb2_row10_col5, #T_f0bb2_row10_col6, #T_f0bb2_row10_col7, #T_f0bb2_row11_col0, #T_f0bb2_row11_col1, #T_f0bb2_row11_col2, #T_f0bb2_row11_col3, #T_f0bb2_row11_col4, #T_f0bb2_row11_col5, #T_f0bb2_row11_col6, #T_f0bb2_row11_col7, #T_f0bb2_row12_col0, #T_f0bb2_row12_col1, #T_f0bb2_row12_col2, #T_f0bb2_row12_col3, #T_f0bb2_row12_col4, #T_f0bb2_row12_col5, #T_f0bb2_row12_col6, #T_f0bb2_row12_col7, #T_f0bb2_row13_col0, #T_f0bb2_row13_col1, #T_f0bb2_row13_col2, #T_f0bb2_row13_col3, #T_f0bb2_row13_col4, #T_f0bb2_row13_col5, #T_f0bb2_row13_col6, #T_f0bb2_row13_col7, #T_f0bb2_row14_col0, #T_f0bb2_row14_col1, #T_f0bb2_row14_col2, #T_f0bb2_row14_col3, #T_f0bb2_row14_col4, #T_f0bb2_row14_col5, #T_f0bb2_row14_col6, #T_f0bb2_row14_col7 {\n",
              "  text-align: left;\n",
              "}\n",
              "#T_f0bb2_row0_col1, #T_f0bb2_row0_col3, #T_f0bb2_row0_col5, #T_f0bb2_row0_col6, #T_f0bb2_row0_col7, #T_f0bb2_row1_col2, #T_f0bb2_row6_col4 {\n",
              "  text-align: left;\n",
              "  background-color: yellow;\n",
              "}\n",
              "#T_f0bb2_row0_col8, #T_f0bb2_row1_col8, #T_f0bb2_row2_col8, #T_f0bb2_row3_col8, #T_f0bb2_row4_col8, #T_f0bb2_row5_col8, #T_f0bb2_row6_col8, #T_f0bb2_row7_col8, #T_f0bb2_row8_col8, #T_f0bb2_row9_col8, #T_f0bb2_row10_col8, #T_f0bb2_row12_col8, #T_f0bb2_row13_col8, #T_f0bb2_row14_col8 {\n",
              "  text-align: left;\n",
              "  background-color: lightgrey;\n",
              "}\n",
              "#T_f0bb2_row11_col8 {\n",
              "  text-align: left;\n",
              "  background-color: yellow;\n",
              "  background-color: lightgrey;\n",
              "}\n",
              "</style>\n",
              "<table id=\"T_f0bb2\" class=\"dataframe\">\n",
              "  <thead>\n",
              "    <tr>\n",
              "      <th class=\"blank level0\" >&nbsp;</th>\n",
              "      <th id=\"T_f0bb2_level0_col0\" class=\"col_heading level0 col0\" >Model</th>\n",
              "      <th id=\"T_f0bb2_level0_col1\" class=\"col_heading level0 col1\" >Accuracy</th>\n",
              "      <th id=\"T_f0bb2_level0_col2\" class=\"col_heading level0 col2\" >AUC</th>\n",
              "      <th id=\"T_f0bb2_level0_col3\" class=\"col_heading level0 col3\" >Recall</th>\n",
              "      <th id=\"T_f0bb2_level0_col4\" class=\"col_heading level0 col4\" >Prec.</th>\n",
              "      <th id=\"T_f0bb2_level0_col5\" class=\"col_heading level0 col5\" >F1</th>\n",
              "      <th id=\"T_f0bb2_level0_col6\" class=\"col_heading level0 col6\" >Kappa</th>\n",
              "      <th id=\"T_f0bb2_level0_col7\" class=\"col_heading level0 col7\" >MCC</th>\n",
              "      <th id=\"T_f0bb2_level0_col8\" class=\"col_heading level0 col8\" >TT (Sec)</th>\n",
              "    </tr>\n",
              "  </thead>\n",
              "  <tbody>\n",
              "    <tr>\n",
              "      <th id=\"T_f0bb2_level0_row0\" class=\"row_heading level0 row0\" >qda</th>\n",
              "      <td id=\"T_f0bb2_row0_col0\" class=\"data row0 col0\" >Quadratic Discriminant Analysis</td>\n",
              "      <td id=\"T_f0bb2_row0_col1\" class=\"data row0 col1\" >0.9521</td>\n",
              "      <td id=\"T_f0bb2_row0_col2\" class=\"data row0 col2\" >0.9717</td>\n",
              "      <td id=\"T_f0bb2_row0_col3\" class=\"data row0 col3\" >0.8807</td>\n",
              "      <td id=\"T_f0bb2_row0_col4\" class=\"data row0 col4\" >0.8336</td>\n",
              "      <td id=\"T_f0bb2_row0_col5\" class=\"data row0 col5\" >0.8555</td>\n",
              "      <td id=\"T_f0bb2_row0_col6\" class=\"data row0 col6\" >0.8269</td>\n",
              "      <td id=\"T_f0bb2_row0_col7\" class=\"data row0 col7\" >0.8281</td>\n",
              "      <td id=\"T_f0bb2_row0_col8\" class=\"data row0 col8\" >0.5740</td>\n",
              "    </tr>\n",
              "    <tr>\n",
              "      <th id=\"T_f0bb2_level0_row1\" class=\"row_heading level0 row1\" >xgboost</th>\n",
              "      <td id=\"T_f0bb2_row1_col0\" class=\"data row1 col0\" >Extreme Gradient Boosting</td>\n",
              "      <td id=\"T_f0bb2_row1_col1\" class=\"data row1 col1\" >0.9497</td>\n",
              "      <td id=\"T_f0bb2_row1_col2\" class=\"data row1 col2\" >0.9828</td>\n",
              "      <td id=\"T_f0bb2_row1_col3\" class=\"data row1 col3\" >0.8334</td>\n",
              "      <td id=\"T_f0bb2_row1_col4\" class=\"data row1 col4\" >0.8523</td>\n",
              "      <td id=\"T_f0bb2_row1_col5\" class=\"data row1 col5\" >0.8417</td>\n",
              "      <td id=\"T_f0bb2_row1_col6\" class=\"data row1 col6\" >0.8119</td>\n",
              "      <td id=\"T_f0bb2_row1_col7\" class=\"data row1 col7\" >0.8126</td>\n",
              "      <td id=\"T_f0bb2_row1_col8\" class=\"data row1 col8\" >0.7180</td>\n",
              "    </tr>\n",
              "    <tr>\n",
              "      <th id=\"T_f0bb2_level0_row2\" class=\"row_heading level0 row2\" >lightgbm</th>\n",
              "      <td id=\"T_f0bb2_row2_col0\" class=\"data row2 col0\" >Light Gradient Boosting Machine</td>\n",
              "      <td id=\"T_f0bb2_row2_col1\" class=\"data row2 col1\" >0.9470</td>\n",
              "      <td id=\"T_f0bb2_row2_col2\" class=\"data row2 col2\" >0.9816</td>\n",
              "      <td id=\"T_f0bb2_row2_col3\" class=\"data row2 col3\" >0.8106</td>\n",
              "      <td id=\"T_f0bb2_row2_col4\" class=\"data row2 col4\" >0.8545</td>\n",
              "      <td id=\"T_f0bb2_row2_col5\" class=\"data row2 col5\" >0.8293</td>\n",
              "      <td id=\"T_f0bb2_row2_col6\" class=\"data row2 col6\" >0.7980</td>\n",
              "      <td id=\"T_f0bb2_row2_col7\" class=\"data row2 col7\" >0.8002</td>\n",
              "      <td id=\"T_f0bb2_row2_col8\" class=\"data row2 col8\" >2.6160</td>\n",
              "    </tr>\n",
              "    <tr>\n",
              "      <th id=\"T_f0bb2_level0_row3\" class=\"row_heading level0 row3\" >ada</th>\n",
              "      <td id=\"T_f0bb2_row3_col0\" class=\"data row3 col0\" >Ada Boost Classifier</td>\n",
              "      <td id=\"T_f0bb2_row3_col1\" class=\"data row3 col1\" >0.9436</td>\n",
              "      <td id=\"T_f0bb2_row3_col2\" class=\"data row3 col2\" >0.9801</td>\n",
              "      <td id=\"T_f0bb2_row3_col3\" class=\"data row3 col3\" >0.7956</td>\n",
              "      <td id=\"T_f0bb2_row3_col4\" class=\"data row3 col4\" >0.8448</td>\n",
              "      <td id=\"T_f0bb2_row3_col5\" class=\"data row3 col5\" >0.8184</td>\n",
              "      <td id=\"T_f0bb2_row3_col6\" class=\"data row3 col6\" >0.7851</td>\n",
              "      <td id=\"T_f0bb2_row3_col7\" class=\"data row3 col7\" >0.7863</td>\n",
              "      <td id=\"T_f0bb2_row3_col8\" class=\"data row3 col8\" >0.7880</td>\n",
              "    </tr>\n",
              "    <tr>\n",
              "      <th id=\"T_f0bb2_level0_row4\" class=\"row_heading level0 row4\" >gbc</th>\n",
              "      <td id=\"T_f0bb2_row4_col0\" class=\"data row4 col0\" >Gradient Boosting Classifier</td>\n",
              "      <td id=\"T_f0bb2_row4_col1\" class=\"data row4 col1\" >0.9409</td>\n",
              "      <td id=\"T_f0bb2_row4_col2\" class=\"data row4 col2\" >0.9777</td>\n",
              "      <td id=\"T_f0bb2_row4_col3\" class=\"data row4 col3\" >0.7785</td>\n",
              "      <td id=\"T_f0bb2_row4_col4\" class=\"data row4 col4\" >0.8440</td>\n",
              "      <td id=\"T_f0bb2_row4_col5\" class=\"data row4 col5\" >0.8084</td>\n",
              "      <td id=\"T_f0bb2_row4_col6\" class=\"data row4 col6\" >0.7736</td>\n",
              "      <td id=\"T_f0bb2_row4_col7\" class=\"data row4 col7\" >0.7754</td>\n",
              "      <td id=\"T_f0bb2_row4_col8\" class=\"data row4 col8\" >2.3580</td>\n",
              "    </tr>\n",
              "    <tr>\n",
              "      <th id=\"T_f0bb2_level0_row5\" class=\"row_heading level0 row5\" >rf</th>\n",
              "      <td id=\"T_f0bb2_row5_col0\" class=\"data row5 col0\" >Random Forest Classifier</td>\n",
              "      <td id=\"T_f0bb2_row5_col1\" class=\"data row5 col1\" >0.9299</td>\n",
              "      <td id=\"T_f0bb2_row5_col2\" class=\"data row5 col2\" >0.9763</td>\n",
              "      <td id=\"T_f0bb2_row5_col3\" class=\"data row5 col3\" >0.6534</td>\n",
              "      <td id=\"T_f0bb2_row5_col4\" class=\"data row5 col4\" >0.8815</td>\n",
              "      <td id=\"T_f0bb2_row5_col5\" class=\"data row5 col5\" >0.7495</td>\n",
              "      <td id=\"T_f0bb2_row5_col6\" class=\"data row5 col6\" >0.7099</td>\n",
              "      <td id=\"T_f0bb2_row5_col7\" class=\"data row5 col7\" >0.7212</td>\n",
              "      <td id=\"T_f0bb2_row5_col8\" class=\"data row5 col8\" >1.3410</td>\n",
              "    </tr>\n",
              "    <tr>\n",
              "      <th id=\"T_f0bb2_level0_row6\" class=\"row_heading level0 row6\" >et</th>\n",
              "      <td id=\"T_f0bb2_row6_col0\" class=\"data row6 col0\" >Extra Trees Classifier</td>\n",
              "      <td id=\"T_f0bb2_row6_col1\" class=\"data row6 col1\" >0.9229</td>\n",
              "      <td id=\"T_f0bb2_row6_col2\" class=\"data row6 col2\" >0.9794</td>\n",
              "      <td id=\"T_f0bb2_row6_col3\" class=\"data row6 col3\" >0.5492</td>\n",
              "      <td id=\"T_f0bb2_row6_col4\" class=\"data row6 col4\" >0.9509</td>\n",
              "      <td id=\"T_f0bb2_row6_col5\" class=\"data row6 col5\" >0.6953</td>\n",
              "      <td id=\"T_f0bb2_row6_col6\" class=\"data row6 col6\" >0.6549</td>\n",
              "      <td id=\"T_f0bb2_row6_col7\" class=\"data row6 col7\" >0.6878</td>\n",
              "      <td id=\"T_f0bb2_row6_col8\" class=\"data row6 col8\" >0.7960</td>\n",
              "    </tr>\n",
              "    <tr>\n",
              "      <th id=\"T_f0bb2_level0_row7\" class=\"row_heading level0 row7\" >lda</th>\n",
              "      <td id=\"T_f0bb2_row7_col0\" class=\"data row7 col0\" >Linear Discriminant Analysis</td>\n",
              "      <td id=\"T_f0bb2_row7_col1\" class=\"data row7 col1\" >0.9213</td>\n",
              "      <td id=\"T_f0bb2_row7_col2\" class=\"data row7 col2\" >0.9702</td>\n",
              "      <td id=\"T_f0bb2_row7_col3\" class=\"data row7 col3\" >0.7483</td>\n",
              "      <td id=\"T_f0bb2_row7_col4\" class=\"data row7 col4\" >0.7625</td>\n",
              "      <td id=\"T_f0bb2_row7_col5\" class=\"data row7 col5\" >0.7543</td>\n",
              "      <td id=\"T_f0bb2_row7_col6\" class=\"data row7 col6\" >0.7075</td>\n",
              "      <td id=\"T_f0bb2_row7_col7\" class=\"data row7 col7\" >0.7083</td>\n",
              "      <td id=\"T_f0bb2_row7_col8\" class=\"data row7 col8\" >0.4590</td>\n",
              "    </tr>\n",
              "    <tr>\n",
              "      <th id=\"T_f0bb2_level0_row8\" class=\"row_heading level0 row8\" >ridge</th>\n",
              "      <td id=\"T_f0bb2_row8_col0\" class=\"data row8 col0\" >Ridge Classifier</td>\n",
              "      <td id=\"T_f0bb2_row8_col1\" class=\"data row8 col1\" >0.9137</td>\n",
              "      <td id=\"T_f0bb2_row8_col2\" class=\"data row8 col2\" >0.0000</td>\n",
              "      <td id=\"T_f0bb2_row8_col3\" class=\"data row8 col3\" >0.4964</td>\n",
              "      <td id=\"T_f0bb2_row8_col4\" class=\"data row8 col4\" >0.9419</td>\n",
              "      <td id=\"T_f0bb2_row8_col5\" class=\"data row8 col5\" >0.6482</td>\n",
              "      <td id=\"T_f0bb2_row8_col6\" class=\"data row8 col6\" >0.6046</td>\n",
              "      <td id=\"T_f0bb2_row8_col7\" class=\"data row8 col7\" >0.6459</td>\n",
              "      <td id=\"T_f0bb2_row8_col8\" class=\"data row8 col8\" >0.3840</td>\n",
              "    </tr>\n",
              "    <tr>\n",
              "      <th id=\"T_f0bb2_level0_row9\" class=\"row_heading level0 row9\" >dt</th>\n",
              "      <td id=\"T_f0bb2_row9_col0\" class=\"data row9 col0\" >Decision Tree Classifier</td>\n",
              "      <td id=\"T_f0bb2_row9_col1\" class=\"data row9 col1\" >0.8890</td>\n",
              "      <td id=\"T_f0bb2_row9_col2\" class=\"data row9 col2\" >0.8031</td>\n",
              "      <td id=\"T_f0bb2_row9_col3\" class=\"data row9 col3\" >0.6762</td>\n",
              "      <td id=\"T_f0bb2_row9_col4\" class=\"data row9 col4\" >0.6494</td>\n",
              "      <td id=\"T_f0bb2_row9_col5\" class=\"data row9 col5\" >0.6620</td>\n",
              "      <td id=\"T_f0bb2_row9_col6\" class=\"data row9 col6\" >0.5957</td>\n",
              "      <td id=\"T_f0bb2_row9_col7\" class=\"data row9 col7\" >0.5962</td>\n",
              "      <td id=\"T_f0bb2_row9_col8\" class=\"data row9 col8\" >0.5490</td>\n",
              "    </tr>\n",
              "    <tr>\n",
              "      <th id=\"T_f0bb2_level0_row10\" class=\"row_heading level0 row10\" >nb</th>\n",
              "      <td id=\"T_f0bb2_row10_col0\" class=\"data row10 col0\" >Naive Bayes</td>\n",
              "      <td id=\"T_f0bb2_row10_col1\" class=\"data row10 col1\" >0.8390</td>\n",
              "      <td id=\"T_f0bb2_row10_col2\" class=\"data row10 col2\" >0.5620</td>\n",
              "      <td id=\"T_f0bb2_row10_col3\" class=\"data row10 col3\" >0.0000</td>\n",
              "      <td id=\"T_f0bb2_row10_col4\" class=\"data row10 col4\" >0.0000</td>\n",
              "      <td id=\"T_f0bb2_row10_col5\" class=\"data row10 col5\" >0.0000</td>\n",
              "      <td id=\"T_f0bb2_row10_col6\" class=\"data row10 col6\" >0.0000</td>\n",
              "      <td id=\"T_f0bb2_row10_col7\" class=\"data row10 col7\" >0.0000</td>\n",
              "      <td id=\"T_f0bb2_row10_col8\" class=\"data row10 col8\" >0.4650</td>\n",
              "    </tr>\n",
              "    <tr>\n",
              "      <th id=\"T_f0bb2_level0_row11\" class=\"row_heading level0 row11\" >dummy</th>\n",
              "      <td id=\"T_f0bb2_row11_col0\" class=\"data row11 col0\" >Dummy Classifier</td>\n",
              "      <td id=\"T_f0bb2_row11_col1\" class=\"data row11 col1\" >0.8390</td>\n",
              "      <td id=\"T_f0bb2_row11_col2\" class=\"data row11 col2\" >0.5000</td>\n",
              "      <td id=\"T_f0bb2_row11_col3\" class=\"data row11 col3\" >0.0000</td>\n",
              "      <td id=\"T_f0bb2_row11_col4\" class=\"data row11 col4\" >0.0000</td>\n",
              "      <td id=\"T_f0bb2_row11_col5\" class=\"data row11 col5\" >0.0000</td>\n",
              "      <td id=\"T_f0bb2_row11_col6\" class=\"data row11 col6\" >0.0000</td>\n",
              "      <td id=\"T_f0bb2_row11_col7\" class=\"data row11 col7\" >0.0000</td>\n",
              "      <td id=\"T_f0bb2_row11_col8\" class=\"data row11 col8\" >0.3740</td>\n",
              "    </tr>\n",
              "    <tr>\n",
              "      <th id=\"T_f0bb2_level0_row12\" class=\"row_heading level0 row12\" >knn</th>\n",
              "      <td id=\"T_f0bb2_row12_col0\" class=\"data row12 col0\" >K Neighbors Classifier</td>\n",
              "      <td id=\"T_f0bb2_row12_col1\" class=\"data row12 col1\" >0.8189</td>\n",
              "      <td id=\"T_f0bb2_row12_col2\" class=\"data row12 col2\" >0.5117</td>\n",
              "      <td id=\"T_f0bb2_row12_col3\" class=\"data row12 col3\" >0.0341</td>\n",
              "      <td id=\"T_f0bb2_row12_col4\" class=\"data row12 col4\" >0.1875</td>\n",
              "      <td id=\"T_f0bb2_row12_col5\" class=\"data row12 col5\" >0.0571</td>\n",
              "      <td id=\"T_f0bb2_row12_col6\" class=\"data row12 col6\" >0.0057</td>\n",
              "      <td id=\"T_f0bb2_row12_col7\" class=\"data row12 col7\" >0.0101</td>\n",
              "      <td id=\"T_f0bb2_row12_col8\" class=\"data row12 col8\" >0.3900</td>\n",
              "    </tr>\n",
              "    <tr>\n",
              "      <th id=\"T_f0bb2_level0_row13\" class=\"row_heading level0 row13\" >lr</th>\n",
              "      <td id=\"T_f0bb2_row13_col0\" class=\"data row13 col0\" >Logistic Regression</td>\n",
              "      <td id=\"T_f0bb2_row13_col1\" class=\"data row13 col1\" >0.5491</td>\n",
              "      <td id=\"T_f0bb2_row13_col2\" class=\"data row13 col2\" >0.5620</td>\n",
              "      <td id=\"T_f0bb2_row13_col3\" class=\"data row13 col3\" >0.5473</td>\n",
              "      <td id=\"T_f0bb2_row13_col4\" class=\"data row13 col4\" >0.1888</td>\n",
              "      <td id=\"T_f0bb2_row13_col5\" class=\"data row13 col5\" >0.2807</td>\n",
              "      <td id=\"T_f0bb2_row13_col6\" class=\"data row13 col6\" >0.0545</td>\n",
              "      <td id=\"T_f0bb2_row13_col7\" class=\"data row13 col7\" >0.0713</td>\n",
              "      <td id=\"T_f0bb2_row13_col8\" class=\"data row13 col8\" >1.1290</td>\n",
              "    </tr>\n",
              "    <tr>\n",
              "      <th id=\"T_f0bb2_level0_row14\" class=\"row_heading level0 row14\" >svm</th>\n",
              "      <td id=\"T_f0bb2_row14_col0\" class=\"data row14 col0\" >SVM - Linear Kernel</td>\n",
              "      <td id=\"T_f0bb2_row14_col1\" class=\"data row14 col1\" >0.5003</td>\n",
              "      <td id=\"T_f0bb2_row14_col2\" class=\"data row14 col2\" >0.0000</td>\n",
              "      <td id=\"T_f0bb2_row14_col3\" class=\"data row14 col3\" >0.4999</td>\n",
              "      <td id=\"T_f0bb2_row14_col4\" class=\"data row14 col4\" >0.1627</td>\n",
              "      <td id=\"T_f0bb2_row14_col5\" class=\"data row14 col5\" >0.2452</td>\n",
              "      <td id=\"T_f0bb2_row14_col6\" class=\"data row14 col6\" >0.0024</td>\n",
              "      <td id=\"T_f0bb2_row14_col7\" class=\"data row14 col7\" >0.0003</td>\n",
              "      <td id=\"T_f0bb2_row14_col8\" class=\"data row14 col8\" >0.3880</td>\n",
              "    </tr>\n",
              "  </tbody>\n",
              "</table>\n"
            ]
          },
          "metadata": {}
        },
        {
          "output_type": "display_data",
          "data": {
            "text/plain": [
              "Processing:   0%|          | 0/65 [00:00<?, ?it/s]"
            ],
            "application/vnd.jupyter.widget-view+json": {
              "version_major": 2,
              "version_minor": 0,
              "model_id": "35479ea19b7d4dea944a4a364fa12030"
            }
          },
          "metadata": {
            "application/vnd.jupyter.widget-view+json": {
              "colab": {
                "custom_widget_manager": {
                  "url": "https://ssl.gstatic.com/colaboratory-static/widgets/colab-cdn-widget-manager/b3e629b1971e1542/manager.min.js"
                }
              }
            }
          }
        },
        {
          "output_type": "display_data",
          "data": {
            "text/plain": [
              "<IPython.core.display.HTML object>"
            ],
            "text/html": []
          },
          "metadata": {}
        },
        {
          "output_type": "display_data",
          "data": {
            "text/plain": [
              "<IPython.core.display.HTML object>"
            ],
            "text/html": []
          },
          "metadata": {}
        },
        {
          "output_type": "execute_result",
          "data": {
            "text/plain": [
              "QuadraticDiscriminantAnalysis(priors=None, reg_param=0.0,\n",
              "                              store_covariance=False, tol=0.0001)"
            ],
            "text/html": [
              "<style>#sk-container-id-4 {color: black;background-color: white;}#sk-container-id-4 pre{padding: 0;}#sk-container-id-4 div.sk-toggleable {background-color: white;}#sk-container-id-4 label.sk-toggleable__label {cursor: pointer;display: block;width: 100%;margin-bottom: 0;padding: 0.3em;box-sizing: border-box;text-align: center;}#sk-container-id-4 label.sk-toggleable__label-arrow:before {content: \"▸\";float: left;margin-right: 0.25em;color: #696969;}#sk-container-id-4 label.sk-toggleable__label-arrow:hover:before {color: black;}#sk-container-id-4 div.sk-estimator:hover label.sk-toggleable__label-arrow:before {color: black;}#sk-container-id-4 div.sk-toggleable__content {max-height: 0;max-width: 0;overflow: hidden;text-align: left;background-color: #f0f8ff;}#sk-container-id-4 div.sk-toggleable__content pre {margin: 0.2em;color: black;border-radius: 0.25em;background-color: #f0f8ff;}#sk-container-id-4 input.sk-toggleable__control:checked~div.sk-toggleable__content {max-height: 200px;max-width: 100%;overflow: auto;}#sk-container-id-4 input.sk-toggleable__control:checked~label.sk-toggleable__label-arrow:before {content: \"▾\";}#sk-container-id-4 div.sk-estimator input.sk-toggleable__control:checked~label.sk-toggleable__label {background-color: #d4ebff;}#sk-container-id-4 div.sk-label input.sk-toggleable__control:checked~label.sk-toggleable__label {background-color: #d4ebff;}#sk-container-id-4 input.sk-hidden--visually {border: 0;clip: rect(1px 1px 1px 1px);clip: rect(1px, 1px, 1px, 1px);height: 1px;margin: -1px;overflow: hidden;padding: 0;position: absolute;width: 1px;}#sk-container-id-4 div.sk-estimator {font-family: monospace;background-color: #f0f8ff;border: 1px dotted black;border-radius: 0.25em;box-sizing: border-box;margin-bottom: 0.5em;}#sk-container-id-4 div.sk-estimator:hover {background-color: #d4ebff;}#sk-container-id-4 div.sk-parallel-item::after {content: \"\";width: 100%;border-bottom: 1px solid gray;flex-grow: 1;}#sk-container-id-4 div.sk-label:hover label.sk-toggleable__label {background-color: #d4ebff;}#sk-container-id-4 div.sk-serial::before {content: \"\";position: absolute;border-left: 1px solid gray;box-sizing: border-box;top: 0;bottom: 0;left: 50%;z-index: 0;}#sk-container-id-4 div.sk-serial {display: flex;flex-direction: column;align-items: center;background-color: white;padding-right: 0.2em;padding-left: 0.2em;position: relative;}#sk-container-id-4 div.sk-item {position: relative;z-index: 1;}#sk-container-id-4 div.sk-parallel {display: flex;align-items: stretch;justify-content: center;background-color: white;position: relative;}#sk-container-id-4 div.sk-item::before, #sk-container-id-4 div.sk-parallel-item::before {content: \"\";position: absolute;border-left: 1px solid gray;box-sizing: border-box;top: 0;bottom: 0;left: 50%;z-index: -1;}#sk-container-id-4 div.sk-parallel-item {display: flex;flex-direction: column;z-index: 1;position: relative;background-color: white;}#sk-container-id-4 div.sk-parallel-item:first-child::after {align-self: flex-end;width: 50%;}#sk-container-id-4 div.sk-parallel-item:last-child::after {align-self: flex-start;width: 50%;}#sk-container-id-4 div.sk-parallel-item:only-child::after {width: 0;}#sk-container-id-4 div.sk-dashed-wrapped {border: 1px dashed gray;margin: 0 0.4em 0.5em 0.4em;box-sizing: border-box;padding-bottom: 0.4em;background-color: white;}#sk-container-id-4 div.sk-label label {font-family: monospace;font-weight: bold;display: inline-block;line-height: 1.2em;}#sk-container-id-4 div.sk-label-container {text-align: center;}#sk-container-id-4 div.sk-container {/* jupyter's `normalize.less` sets `[hidden] { display: none; }` but bootstrap.min.css set `[hidden] { display: none !important; }` so we also need the `!important` here to be able to override the default hidden behavior on the sphinx rendered scikit-learn.org. See: https://github.com/scikit-learn/scikit-learn/issues/21755 */display: inline-block !important;position: relative;}#sk-container-id-4 div.sk-text-repr-fallback {display: none;}</style><div id=\"sk-container-id-4\" class=\"sk-top-container\"><div class=\"sk-text-repr-fallback\"><pre>QuadraticDiscriminantAnalysis(priors=None, reg_param=0.0,\n",
              "                              store_covariance=False, tol=0.0001)</pre><b>In a Jupyter environment, please rerun this cell to show the HTML representation or trust the notebook. <br />On GitHub, the HTML representation is unable to render, please try loading this page with nbviewer.org.</b></div><div class=\"sk-container\" hidden><div class=\"sk-item\"><div class=\"sk-estimator sk-toggleable\"><input class=\"sk-toggleable__control sk-hidden--visually\" id=\"sk-estimator-id-4\" type=\"checkbox\" checked><label for=\"sk-estimator-id-4\" class=\"sk-toggleable__label sk-toggleable__label-arrow\">QuadraticDiscriminantAnalysis</label><div class=\"sk-toggleable__content\"><pre>QuadraticDiscriminantAnalysis(priors=None, reg_param=0.0,\n",
              "                              store_covariance=False, tol=0.0001)</pre></div></div></div></div></div>"
            ]
          },
          "metadata": {},
          "execution_count": 26
        }
      ]
    },
    {
      "cell_type": "code",
      "source": [
        "dt = create_model('dt')\n",
        "plot_model(dt, plot='confusion_matrix')\n",
        "knn = create_model('knn')\n",
        "plot_model(knn, plot='confusion_matrix')\n",
        "rf = create_model('rf')\n",
        "plot_model(rf, plot='confusion_matrix')\n"
      ],
      "metadata": {
        "id": "r2TVLDmiCzdi",
        "outputId": "145dbca4-89fc-49de-a712-2c1cb3ec9a83",
        "colab": {
          "base_uri": "https://localhost:8080/",
          "height": 1000,
          "referenced_widgets": [
            "c24e91e037e34524bd7c7007179f17d1",
            "4097c1976cb44bad80e470d3347156e1",
            "f11b1bdc23b64d48a1b2deae41c8e8a6",
            "4f1a79be98f34f90baffa368118397bd",
            "00548c969d374bbebd38100a4f272c54",
            "e72ddfa7cdbc40c68c7498db3be42557",
            "1b04146f1b7a40b0a3233fc65cf5beb0",
            "09e8ec506f4446afaf71ffdf458acb2d",
            "384f336509f84829bf0d40c667b35af2",
            "aa605a60b9ff428aa7303f713ff3b8f5",
            "3a755d85243f461d83d55c7898c666c5",
            "1aaf7fa563684020ae0459adf381f162",
            "ea573d083c6340d4847ba92c6b68f7f9",
            "142563dcbf054c89af82d64c60f6d95e",
            "fbedd6e7b8da44dba9e7baf8826797e8",
            "24baca94539248fda54b565ea4b515b9",
            "e7ea19bdb689401985acd7c26155ee66",
            "d7ea4a55239a488a9a3ffca471449c53",
            "6f88f278279f4d7e95a94bf52f7a1028",
            "13448ec0109d433295367d54efde8449",
            "37472fab299947dc975935d006cc2c15",
            "64acc0065a8148e8ae2e54d073ba432d",
            "e394bf4e36a649c5b20561cdc6eeefe1",
            "fd980f3a839846e786b2005ebc4bddff",
            "4262ec61f3d0411bb0d426cc8a72a8e5",
            "549744e65d924b20b90a83a5c4c10c26",
            "7384ef6310af4ff7acf589c61bad7378",
            "b806325cf43945079584ad1ff3e47060",
            "3c0952f128f14d78a16a60e335f4d209",
            "5075959b12394dfb813fef9d51697118",
            "4d435845c16246a1a681e0c5289a561f",
            "423449ef4f504badb47480c9d410dd72",
            "2c73c6945cba4237ae9dc18f42ee93d8"
          ]
        }
      },
      "execution_count": 27,
      "outputs": [
        {
          "output_type": "display_data",
          "data": {
            "text/plain": [
              "<IPython.core.display.HTML object>"
            ],
            "text/html": []
          },
          "metadata": {}
        },
        {
          "output_type": "display_data",
          "data": {
            "text/plain": [
              "<pandas.io.formats.style.Styler at 0x79a1e8637df0>"
            ],
            "text/html": [
              "<style type=\"text/css\">\n",
              "#T_b13d6_row10_col0, #T_b13d6_row10_col1, #T_b13d6_row10_col2, #T_b13d6_row10_col3, #T_b13d6_row10_col4, #T_b13d6_row10_col5, #T_b13d6_row10_col6 {\n",
              "  background: yellow;\n",
              "}\n",
              "</style>\n",
              "<table id=\"T_b13d6\" class=\"dataframe\">\n",
              "  <thead>\n",
              "    <tr>\n",
              "      <th class=\"blank level0\" >&nbsp;</th>\n",
              "      <th id=\"T_b13d6_level0_col0\" class=\"col_heading level0 col0\" >Accuracy</th>\n",
              "      <th id=\"T_b13d6_level0_col1\" class=\"col_heading level0 col1\" >AUC</th>\n",
              "      <th id=\"T_b13d6_level0_col2\" class=\"col_heading level0 col2\" >Recall</th>\n",
              "      <th id=\"T_b13d6_level0_col3\" class=\"col_heading level0 col3\" >Prec.</th>\n",
              "      <th id=\"T_b13d6_level0_col4\" class=\"col_heading level0 col4\" >F1</th>\n",
              "      <th id=\"T_b13d6_level0_col5\" class=\"col_heading level0 col5\" >Kappa</th>\n",
              "      <th id=\"T_b13d6_level0_col6\" class=\"col_heading level0 col6\" >MCC</th>\n",
              "    </tr>\n",
              "    <tr>\n",
              "      <th class=\"index_name level0\" >Fold</th>\n",
              "      <th class=\"blank col0\" >&nbsp;</th>\n",
              "      <th class=\"blank col1\" >&nbsp;</th>\n",
              "      <th class=\"blank col2\" >&nbsp;</th>\n",
              "      <th class=\"blank col3\" >&nbsp;</th>\n",
              "      <th class=\"blank col4\" >&nbsp;</th>\n",
              "      <th class=\"blank col5\" >&nbsp;</th>\n",
              "      <th class=\"blank col6\" >&nbsp;</th>\n",
              "    </tr>\n",
              "  </thead>\n",
              "  <tbody>\n",
              "    <tr>\n",
              "      <th id=\"T_b13d6_level0_row0\" class=\"row_heading level0 row0\" >0</th>\n",
              "      <td id=\"T_b13d6_row0_col0\" class=\"data row0 col0\" >0.8994</td>\n",
              "      <td id=\"T_b13d6_row0_col1\" class=\"data row0 col1\" >0.8232</td>\n",
              "      <td id=\"T_b13d6_row0_col2\" class=\"data row0 col2\" >0.7115</td>\n",
              "      <td id=\"T_b13d6_row0_col3\" class=\"data row0 col3\" >0.6727</td>\n",
              "      <td id=\"T_b13d6_row0_col4\" class=\"data row0 col4\" >0.6916</td>\n",
              "      <td id=\"T_b13d6_row0_col5\" class=\"data row0 col5\" >0.6315</td>\n",
              "      <td id=\"T_b13d6_row0_col6\" class=\"data row0 col6\" >0.6319</td>\n",
              "    </tr>\n",
              "    <tr>\n",
              "      <th id=\"T_b13d6_level0_row1\" class=\"row_heading level0 row1\" >1</th>\n",
              "      <td id=\"T_b13d6_row1_col0\" class=\"data row1 col0\" >0.8811</td>\n",
              "      <td id=\"T_b13d6_row1_col1\" class=\"data row1 col1\" >0.8045</td>\n",
              "      <td id=\"T_b13d6_row1_col2\" class=\"data row1 col2\" >0.6923</td>\n",
              "      <td id=\"T_b13d6_row1_col3\" class=\"data row1 col3\" >0.6102</td>\n",
              "      <td id=\"T_b13d6_row1_col4\" class=\"data row1 col4\" >0.6486</td>\n",
              "      <td id=\"T_b13d6_row1_col5\" class=\"data row1 col5\" >0.5774</td>\n",
              "      <td id=\"T_b13d6_row1_col6\" class=\"data row1 col6\" >0.5791</td>\n",
              "    </tr>\n",
              "    <tr>\n",
              "      <th id=\"T_b13d6_level0_row2\" class=\"row_heading level0 row2\" >2</th>\n",
              "      <td id=\"T_b13d6_row2_col0\" class=\"data row2 col0\" >0.8872</td>\n",
              "      <td id=\"T_b13d6_row2_col1\" class=\"data row2 col1\" >0.7956</td>\n",
              "      <td id=\"T_b13d6_row2_col2\" class=\"data row2 col2\" >0.6604</td>\n",
              "      <td id=\"T_b13d6_row2_col3\" class=\"data row2 col3\" >0.6481</td>\n",
              "      <td id=\"T_b13d6_row2_col4\" class=\"data row2 col4\" >0.6542</td>\n",
              "      <td id=\"T_b13d6_row2_col5\" class=\"data row2 col5\" >0.5868</td>\n",
              "      <td id=\"T_b13d6_row2_col6\" class=\"data row2 col6\" >0.5869</td>\n",
              "    </tr>\n",
              "    <tr>\n",
              "      <th id=\"T_b13d6_level0_row3\" class=\"row_heading level0 row3\" >3</th>\n",
              "      <td id=\"T_b13d6_row3_col0\" class=\"data row3 col0\" >0.8811</td>\n",
              "      <td id=\"T_b13d6_row3_col1\" class=\"data row3 col1\" >0.7920</td>\n",
              "      <td id=\"T_b13d6_row3_col2\" class=\"data row3 col2\" >0.6604</td>\n",
              "      <td id=\"T_b13d6_row3_col3\" class=\"data row3 col3\" >0.6250</td>\n",
              "      <td id=\"T_b13d6_row3_col4\" class=\"data row3 col4\" >0.6422</td>\n",
              "      <td id=\"T_b13d6_row3_col5\" class=\"data row3 col5\" >0.5710</td>\n",
              "      <td id=\"T_b13d6_row3_col6\" class=\"data row3 col6\" >0.5713</td>\n",
              "    </tr>\n",
              "    <tr>\n",
              "      <th id=\"T_b13d6_level0_row4\" class=\"row_heading level0 row4\" >4</th>\n",
              "      <td id=\"T_b13d6_row4_col0\" class=\"data row4 col0\" >0.8994</td>\n",
              "      <td id=\"T_b13d6_row4_col1\" class=\"data row4 col1\" >0.8258</td>\n",
              "      <td id=\"T_b13d6_row4_col2\" class=\"data row4 col2\" >0.7170</td>\n",
              "      <td id=\"T_b13d6_row4_col3\" class=\"data row4 col3\" >0.6786</td>\n",
              "      <td id=\"T_b13d6_row4_col4\" class=\"data row4 col4\" >0.6972</td>\n",
              "      <td id=\"T_b13d6_row4_col5\" class=\"data row4 col5\" >0.6370</td>\n",
              "      <td id=\"T_b13d6_row4_col6\" class=\"data row4 col6\" >0.6373</td>\n",
              "    </tr>\n",
              "    <tr>\n",
              "      <th id=\"T_b13d6_level0_row5\" class=\"row_heading level0 row5\" >5</th>\n",
              "      <td id=\"T_b13d6_row5_col0\" class=\"data row5 col0\" >0.8994</td>\n",
              "      <td id=\"T_b13d6_row5_col1\" class=\"data row5 col1\" >0.8181</td>\n",
              "      <td id=\"T_b13d6_row5_col2\" class=\"data row5 col2\" >0.6981</td>\n",
              "      <td id=\"T_b13d6_row5_col3\" class=\"data row5 col3\" >0.6852</td>\n",
              "      <td id=\"T_b13d6_row5_col4\" class=\"data row5 col4\" >0.6916</td>\n",
              "      <td id=\"T_b13d6_row5_col5\" class=\"data row5 col5\" >0.6315</td>\n",
              "      <td id=\"T_b13d6_row5_col6\" class=\"data row5 col6\" >0.6315</td>\n",
              "    </tr>\n",
              "    <tr>\n",
              "      <th id=\"T_b13d6_level0_row6\" class=\"row_heading level0 row6\" >6</th>\n",
              "      <td id=\"T_b13d6_row6_col0\" class=\"data row6 col0\" >0.8963</td>\n",
              "      <td id=\"T_b13d6_row6_col1\" class=\"data row6 col1\" >0.8163</td>\n",
              "      <td id=\"T_b13d6_row6_col2\" class=\"data row6 col2\" >0.6981</td>\n",
              "      <td id=\"T_b13d6_row6_col3\" class=\"data row6 col3\" >0.6727</td>\n",
              "      <td id=\"T_b13d6_row6_col4\" class=\"data row6 col4\" >0.6852</td>\n",
              "      <td id=\"T_b13d6_row6_col5\" class=\"data row6 col5\" >0.6232</td>\n",
              "      <td id=\"T_b13d6_row6_col6\" class=\"data row6 col6\" >0.6233</td>\n",
              "    </tr>\n",
              "    <tr>\n",
              "      <th id=\"T_b13d6_level0_row7\" class=\"row_heading level0 row7\" >7</th>\n",
              "      <td id=\"T_b13d6_row7_col0\" class=\"data row7 col0\" >0.8811</td>\n",
              "      <td id=\"T_b13d6_row7_col1\" class=\"data row7 col1\" >0.7615</td>\n",
              "      <td id=\"T_b13d6_row7_col2\" class=\"data row7 col2\" >0.5849</td>\n",
              "      <td id=\"T_b13d6_row7_col3\" class=\"data row7 col3\" >0.6458</td>\n",
              "      <td id=\"T_b13d6_row7_col4\" class=\"data row7 col4\" >0.6139</td>\n",
              "      <td id=\"T_b13d6_row7_col5\" class=\"data row7 col5\" >0.5438</td>\n",
              "      <td id=\"T_b13d6_row7_col6\" class=\"data row7 col6\" >0.5447</td>\n",
              "    </tr>\n",
              "    <tr>\n",
              "      <th id=\"T_b13d6_level0_row8\" class=\"row_heading level0 row8\" >8</th>\n",
              "      <td id=\"T_b13d6_row8_col0\" class=\"data row8 col0\" >0.8902</td>\n",
              "      <td id=\"T_b13d6_row8_col1\" class=\"data row8 col1\" >0.8203</td>\n",
              "      <td id=\"T_b13d6_row8_col2\" class=\"data row8 col2\" >0.7170</td>\n",
              "      <td id=\"T_b13d6_row8_col3\" class=\"data row8 col3\" >0.6441</td>\n",
              "      <td id=\"T_b13d6_row8_col4\" class=\"data row8 col4\" >0.6786</td>\n",
              "      <td id=\"T_b13d6_row8_col5\" class=\"data row8 col5\" >0.6126</td>\n",
              "      <td id=\"T_b13d6_row8_col6\" class=\"data row8 col6\" >0.6139</td>\n",
              "    </tr>\n",
              "    <tr>\n",
              "      <th id=\"T_b13d6_level0_row9\" class=\"row_heading level0 row9\" >9</th>\n",
              "      <td id=\"T_b13d6_row9_col0\" class=\"data row9 col0\" >0.8750</td>\n",
              "      <td id=\"T_b13d6_row9_col1\" class=\"data row9 col1\" >0.7731</td>\n",
              "      <td id=\"T_b13d6_row9_col2\" class=\"data row9 col2\" >0.6226</td>\n",
              "      <td id=\"T_b13d6_row9_col3\" class=\"data row9 col3\" >0.6111</td>\n",
              "      <td id=\"T_b13d6_row9_col4\" class=\"data row9 col4\" >0.6168</td>\n",
              "      <td id=\"T_b13d6_row9_col5\" class=\"data row9 col5\" >0.5421</td>\n",
              "      <td id=\"T_b13d6_row9_col6\" class=\"data row9 col6\" >0.5422</td>\n",
              "    </tr>\n",
              "    <tr>\n",
              "      <th id=\"T_b13d6_level0_row10\" class=\"row_heading level0 row10\" >Mean</th>\n",
              "      <td id=\"T_b13d6_row10_col0\" class=\"data row10 col0\" >0.8890</td>\n",
              "      <td id=\"T_b13d6_row10_col1\" class=\"data row10 col1\" >0.8031</td>\n",
              "      <td id=\"T_b13d6_row10_col2\" class=\"data row10 col2\" >0.6762</td>\n",
              "      <td id=\"T_b13d6_row10_col3\" class=\"data row10 col3\" >0.6494</td>\n",
              "      <td id=\"T_b13d6_row10_col4\" class=\"data row10 col4\" >0.6620</td>\n",
              "      <td id=\"T_b13d6_row10_col5\" class=\"data row10 col5\" >0.5957</td>\n",
              "      <td id=\"T_b13d6_row10_col6\" class=\"data row10 col6\" >0.5962</td>\n",
              "    </tr>\n",
              "    <tr>\n",
              "      <th id=\"T_b13d6_level0_row11\" class=\"row_heading level0 row11\" >Std</th>\n",
              "      <td id=\"T_b13d6_row11_col0\" class=\"data row11 col0\" >0.0088</td>\n",
              "      <td id=\"T_b13d6_row11_col1\" class=\"data row11 col1\" >0.0210</td>\n",
              "      <td id=\"T_b13d6_row11_col2\" class=\"data row11 col2\" >0.0418</td>\n",
              "      <td id=\"T_b13d6_row11_col3\" class=\"data row11 col3\" >0.0262</td>\n",
              "      <td id=\"T_b13d6_row11_col4\" class=\"data row11 col4\" >0.0297</td>\n",
              "      <td id=\"T_b13d6_row11_col5\" class=\"data row11 col5\" >0.0345</td>\n",
              "      <td id=\"T_b13d6_row11_col6\" class=\"data row11 col6\" >0.0344</td>\n",
              "    </tr>\n",
              "  </tbody>\n",
              "</table>\n"
            ]
          },
          "metadata": {}
        },
        {
          "output_type": "display_data",
          "data": {
            "text/plain": [
              "Processing:   0%|          | 0/4 [00:00<?, ?it/s]"
            ],
            "application/vnd.jupyter.widget-view+json": {
              "version_major": 2,
              "version_minor": 0,
              "model_id": "c24e91e037e34524bd7c7007179f17d1"
            }
          },
          "metadata": {
            "application/vnd.jupyter.widget-view+json": {
              "colab": {
                "custom_widget_manager": {
                  "url": "https://ssl.gstatic.com/colaboratory-static/widgets/colab-cdn-widget-manager/b3e629b1971e1542/manager.min.js"
                }
              }
            }
          }
        },
        {
          "output_type": "display_data",
          "data": {
            "text/plain": [
              "<IPython.core.display.HTML object>"
            ],
            "text/html": []
          },
          "metadata": {}
        },
        {
          "output_type": "display_data",
          "data": {
            "text/plain": [
              "<IPython.core.display.HTML object>"
            ],
            "text/html": []
          },
          "metadata": {}
        },
        {
          "output_type": "display_data",
          "data": {
            "text/plain": [
              "<Figure size 800x550 with 1 Axes>"
            ],
            "image/png": "[encoded data removed]"
          },
          "metadata": {}
        },
        {
          "output_type": "display_data",
          "data": {
            "text/plain": [
              "<IPython.core.display.HTML object>"
            ],
            "text/html": []
          },
          "metadata": {}
        },
        {
          "output_type": "display_data",
          "data": {
            "text/plain": [
              "<pandas.io.formats.style.Styler at 0x79a1eb117370>"
            ],
            "text/html": [
              "<style type=\"text/css\">\n",
              "#T_1ddfe_row10_col0, #T_1ddfe_row10_col1, #T_1ddfe_row10_col2, #T_1ddfe_row10_col3, #T_1ddfe_row10_col4, #T_1ddfe_row10_col5, #T_1ddfe_row10_col6 {\n",
              "  background: yellow;\n",
              "}\n",
              "</style>\n",
              "<table id=\"T_1ddfe\" class=\"dataframe\">\n",
              "  <thead>\n",
              "    <tr>\n",
              "      <th class=\"blank level0\" >&nbsp;</th>\n",
              "      <th id=\"T_1ddfe_level0_col0\" class=\"col_heading level0 col0\" >Accuracy</th>\n",
              "      <th id=\"T_1ddfe_level0_col1\" class=\"col_heading level0 col1\" >AUC</th>\n",
              "      <th id=\"T_1ddfe_level0_col2\" class=\"col_heading level0 col2\" >Recall</th>\n",
              "      <th id=\"T_1ddfe_level0_col3\" class=\"col_heading level0 col3\" >Prec.</th>\n",
              "      <th id=\"T_1ddfe_level0_col4\" class=\"col_heading level0 col4\" >F1</th>\n",
              "      <th id=\"T_1ddfe_level0_col5\" class=\"col_heading level0 col5\" >Kappa</th>\n",
              "      <th id=\"T_1ddfe_level0_col6\" class=\"col_heading level0 col6\" >MCC</th>\n",
              "    </tr>\n",
              "    <tr>\n",
              "      <th class=\"index_name level0\" >Fold</th>\n",
              "      <th class=\"blank col0\" >&nbsp;</th>\n",
              "      <th class=\"blank col1\" >&nbsp;</th>\n",
              "      <th class=\"blank col2\" >&nbsp;</th>\n",
              "      <th class=\"blank col3\" >&nbsp;</th>\n",
              "      <th class=\"blank col4\" >&nbsp;</th>\n",
              "      <th class=\"blank col5\" >&nbsp;</th>\n",
              "      <th class=\"blank col6\" >&nbsp;</th>\n",
              "    </tr>\n",
              "  </thead>\n",
              "  <tbody>\n",
              "    <tr>\n",
              "      <th id=\"T_1ddfe_level0_row0\" class=\"row_heading level0 row0\" >0</th>\n",
              "      <td id=\"T_1ddfe_row0_col0\" class=\"data row0 col0\" >0.8232</td>\n",
              "      <td id=\"T_1ddfe_row0_col1\" class=\"data row0 col1\" >0.5525</td>\n",
              "      <td id=\"T_1ddfe_row0_col2\" class=\"data row0 col2\" >0.0192</td>\n",
              "      <td id=\"T_1ddfe_row0_col3\" class=\"data row0 col3\" >0.1250</td>\n",
              "      <td id=\"T_1ddfe_row0_col4\" class=\"data row0 col4\" >0.0333</td>\n",
              "      <td id=\"T_1ddfe_row0_col5\" class=\"data row0 col5\" >-0.0093</td>\n",
              "      <td id=\"T_1ddfe_row0_col6\" class=\"data row0 col6\" >-0.0145</td>\n",
              "    </tr>\n",
              "    <tr>\n",
              "      <th id=\"T_1ddfe_level0_row1\" class=\"row_heading level0 row1\" >1</th>\n",
              "      <td id=\"T_1ddfe_row1_col0\" class=\"data row1 col0\" >0.8323</td>\n",
              "      <td id=\"T_1ddfe_row1_col1\" class=\"data row1 col1\" >0.4831</td>\n",
              "      <td id=\"T_1ddfe_row1_col2\" class=\"data row1 col2\" >0.0385</td>\n",
              "      <td id=\"T_1ddfe_row1_col3\" class=\"data row1 col3\" >0.2857</td>\n",
              "      <td id=\"T_1ddfe_row1_col4\" class=\"data row1 col4\" >0.0678</td>\n",
              "      <td id=\"T_1ddfe_row1_col5\" class=\"data row1 col5\" >0.0314</td>\n",
              "      <td id=\"T_1ddfe_row1_col6\" class=\"data row1 col6\" >0.0514</td>\n",
              "    </tr>\n",
              "    <tr>\n",
              "      <th id=\"T_1ddfe_level0_row2\" class=\"row_heading level0 row2\" >2</th>\n",
              "      <td id=\"T_1ddfe_row2_col0\" class=\"data row2 col0\" >0.8201</td>\n",
              "      <td id=\"T_1ddfe_row2_col1\" class=\"data row2 col1\" >0.4921</td>\n",
              "      <td id=\"T_1ddfe_row2_col2\" class=\"data row2 col2\" >0.0189</td>\n",
              "      <td id=\"T_1ddfe_row2_col3\" class=\"data row2 col3\" >0.1250</td>\n",
              "      <td id=\"T_1ddfe_row2_col4\" class=\"data row2 col4\" >0.0328</td>\n",
              "      <td id=\"T_1ddfe_row2_col5\" class=\"data row2 col5\" >-0.0100</td>\n",
              "      <td id=\"T_1ddfe_row2_col6\" class=\"data row2 col6\" >-0.0157</td>\n",
              "    </tr>\n",
              "    <tr>\n",
              "      <th id=\"T_1ddfe_level0_row3\" class=\"row_heading level0 row3\" >3</th>\n",
              "      <td id=\"T_1ddfe_row3_col0\" class=\"data row3 col0\" >0.8201</td>\n",
              "      <td id=\"T_1ddfe_row3_col1\" class=\"data row3 col1\" >0.5346</td>\n",
              "      <td id=\"T_1ddfe_row3_col2\" class=\"data row3 col2\" >0.0377</td>\n",
              "      <td id=\"T_1ddfe_row3_col3\" class=\"data row3 col3\" >0.2000</td>\n",
              "      <td id=\"T_1ddfe_row3_col4\" class=\"data row3 col4\" >0.0635</td>\n",
              "      <td id=\"T_1ddfe_row3_col5\" class=\"data row3 col5\" >0.0129</td>\n",
              "      <td id=\"T_1ddfe_row3_col6\" class=\"data row3 col6\" >0.0185</td>\n",
              "    </tr>\n",
              "    <tr>\n",
              "      <th id=\"T_1ddfe_level0_row4\" class=\"row_heading level0 row4\" >4</th>\n",
              "      <td id=\"T_1ddfe_row4_col0\" class=\"data row4 col0\" >0.8079</td>\n",
              "      <td id=\"T_1ddfe_row4_col1\" class=\"data row4 col1\" >0.4780</td>\n",
              "      <td id=\"T_1ddfe_row4_col2\" class=\"data row4 col2\" >0.0377</td>\n",
              "      <td id=\"T_1ddfe_row4_col3\" class=\"data row4 col3\" >0.1429</td>\n",
              "      <td id=\"T_1ddfe_row4_col4\" class=\"data row4 col4\" >0.0597</td>\n",
              "      <td id=\"T_1ddfe_row4_col5\" class=\"data row4 col5\" >-0.0084</td>\n",
              "      <td id=\"T_1ddfe_row4_col6\" class=\"data row4 col6\" >-0.0107</td>\n",
              "    </tr>\n",
              "    <tr>\n",
              "      <th id=\"T_1ddfe_level0_row5\" class=\"row_heading level0 row5\" >5</th>\n",
              "      <td id=\"T_1ddfe_row5_col0\" class=\"data row5 col0\" >0.8262</td>\n",
              "      <td id=\"T_1ddfe_row5_col1\" class=\"data row5 col1\" >0.5223</td>\n",
              "      <td id=\"T_1ddfe_row5_col2\" class=\"data row5 col2\" >0.0566</td>\n",
              "      <td id=\"T_1ddfe_row5_col3\" class=\"data row5 col3\" >0.3000</td>\n",
              "      <td id=\"T_1ddfe_row5_col4\" class=\"data row5 col4\" >0.0952</td>\n",
              "      <td id=\"T_1ddfe_row5_col5\" class=\"data row5 col5\" >0.0463</td>\n",
              "      <td id=\"T_1ddfe_row5_col6\" class=\"data row5 col6\" >0.0667</td>\n",
              "    </tr>\n",
              "    <tr>\n",
              "      <th id=\"T_1ddfe_level0_row6\" class=\"row_heading level0 row6\" >6</th>\n",
              "      <td id=\"T_1ddfe_row6_col0\" class=\"data row6 col0\" >0.8140</td>\n",
              "      <td id=\"T_1ddfe_row6_col1\" class=\"data row6 col1\" >0.4966</td>\n",
              "      <td id=\"T_1ddfe_row6_col2\" class=\"data row6 col2\" >0.0189</td>\n",
              "      <td id=\"T_1ddfe_row6_col3\" class=\"data row6 col3\" >0.1000</td>\n",
              "      <td id=\"T_1ddfe_row6_col4\" class=\"data row6 col4\" >0.0317</td>\n",
              "      <td id=\"T_1ddfe_row6_col5\" class=\"data row6 col5\" >-0.0206</td>\n",
              "      <td id=\"T_1ddfe_row6_col6\" class=\"data row6 col6\" >-0.0297</td>\n",
              "    </tr>\n",
              "    <tr>\n",
              "      <th id=\"T_1ddfe_level0_row7\" class=\"row_heading level0 row7\" >7</th>\n",
              "      <td id=\"T_1ddfe_row7_col0\" class=\"data row7 col0\" >0.7957</td>\n",
              "      <td id=\"T_1ddfe_row7_col1\" class=\"data row7 col1\" >0.5436</td>\n",
              "      <td id=\"T_1ddfe_row7_col2\" class=\"data row7 col2\" >0.0377</td>\n",
              "      <td id=\"T_1ddfe_row7_col3\" class=\"data row7 col3\" >0.1111</td>\n",
              "      <td id=\"T_1ddfe_row7_col4\" class=\"data row7 col4\" >0.0563</td>\n",
              "      <td id=\"T_1ddfe_row7_col5\" class=\"data row7 col5\" >-0.0279</td>\n",
              "      <td id=\"T_1ddfe_row7_col6\" class=\"data row7 col6\" >-0.0330</td>\n",
              "    </tr>\n",
              "    <tr>\n",
              "      <th id=\"T_1ddfe_level0_row8\" class=\"row_heading level0 row8\" >8</th>\n",
              "      <td id=\"T_1ddfe_row8_col0\" class=\"data row8 col0\" >0.8201</td>\n",
              "      <td id=\"T_1ddfe_row8_col1\" class=\"data row8 col1\" >0.5110</td>\n",
              "      <td id=\"T_1ddfe_row8_col2\" class=\"data row8 col2\" >0.0377</td>\n",
              "      <td id=\"T_1ddfe_row8_col3\" class=\"data row8 col3\" >0.2000</td>\n",
              "      <td id=\"T_1ddfe_row8_col4\" class=\"data row8 col4\" >0.0635</td>\n",
              "      <td id=\"T_1ddfe_row8_col5\" class=\"data row8 col5\" >0.0129</td>\n",
              "      <td id=\"T_1ddfe_row8_col6\" class=\"data row8 col6\" >0.0185</td>\n",
              "    </tr>\n",
              "    <tr>\n",
              "      <th id=\"T_1ddfe_level0_row9\" class=\"row_heading level0 row9\" >9</th>\n",
              "      <td id=\"T_1ddfe_row9_col0\" class=\"data row9 col0\" >0.8293</td>\n",
              "      <td id=\"T_1ddfe_row9_col1\" class=\"data row9 col1\" >0.5035</td>\n",
              "      <td id=\"T_1ddfe_row9_col2\" class=\"data row9 col2\" >0.0377</td>\n",
              "      <td id=\"T_1ddfe_row9_col3\" class=\"data row9 col3\" >0.2857</td>\n",
              "      <td id=\"T_1ddfe_row9_col4\" class=\"data row9 col4\" >0.0667</td>\n",
              "      <td id=\"T_1ddfe_row9_col5\" class=\"data row9 col5\" >0.0301</td>\n",
              "      <td id=\"T_1ddfe_row9_col6\" class=\"data row9 col6\" >0.0498</td>\n",
              "    </tr>\n",
              "    <tr>\n",
              "      <th id=\"T_1ddfe_level0_row10\" class=\"row_heading level0 row10\" >Mean</th>\n",
              "      <td id=\"T_1ddfe_row10_col0\" class=\"data row10 col0\" >0.8189</td>\n",
              "      <td id=\"T_1ddfe_row10_col1\" class=\"data row10 col1\" >0.5117</td>\n",
              "      <td id=\"T_1ddfe_row10_col2\" class=\"data row10 col2\" >0.0341</td>\n",
              "      <td id=\"T_1ddfe_row10_col3\" class=\"data row10 col3\" >0.1875</td>\n",
              "      <td id=\"T_1ddfe_row10_col4\" class=\"data row10 col4\" >0.0571</td>\n",
              "      <td id=\"T_1ddfe_row10_col5\" class=\"data row10 col5\" >0.0057</td>\n",
              "      <td id=\"T_1ddfe_row10_col6\" class=\"data row10 col6\" >0.0101</td>\n",
              "    </tr>\n",
              "    <tr>\n",
              "      <th id=\"T_1ddfe_level0_row11\" class=\"row_heading level0 row11\" >Std</th>\n",
              "      <td id=\"T_1ddfe_row11_col0\" class=\"data row11 col0\" >0.0102</td>\n",
              "      <td id=\"T_1ddfe_row11_col1\" class=\"data row11 col1\" >0.0244</td>\n",
              "      <td id=\"T_1ddfe_row11_col2\" class=\"data row11 col2\" >0.0113</td>\n",
              "      <td id=\"T_1ddfe_row11_col3\" class=\"data row11 col3\" >0.0745</td>\n",
              "      <td id=\"T_1ddfe_row11_col4\" class=\"data row11 col4\" >0.0188</td>\n",
              "      <td id=\"T_1ddfe_row11_col5\" class=\"data row11 col5\" >0.0234</td>\n",
              "      <td id=\"T_1ddfe_row11_col6\" class=\"data row11 col6\" >0.0343</td>\n",
              "    </tr>\n",
              "  </tbody>\n",
              "</table>\n"
            ]
          },
          "metadata": {}
        },
        {
          "output_type": "display_data",
          "data": {
            "text/plain": [
              "Processing:   0%|          | 0/4 [00:00<?, ?it/s]"
            ],
            "application/vnd.jupyter.widget-view+json": {
              "version_major": 2,
              "version_minor": 0,
              "model_id": "64acc0065a8148e8ae2e54d073ba432d"
            }
          },
          "metadata": {
            "application/vnd.jupyter.widget-view+json": {
              "colab": {
                "custom_widget_manager": {
                  "url": "https://ssl.gstatic.com/colaboratory-static/widgets/colab-cdn-widget-manager/b3e629b1971e1542/manager.min.js"
                }
              }
            }
          }
        },
        {
          "output_type": "display_data",
          "data": {
            "text/plain": [
              "<IPython.core.display.HTML object>"
            ],
            "text/html": []
          },
          "metadata": {}
        },
        {
          "output_type": "display_data",
          "data": {
            "text/plain": [
              "<IPython.core.display.HTML object>"
            ],
            "text/html": []
          },
          "metadata": {}
        },
        {
          "output_type": "display_data",
          "data": {
            "text/plain": [
              "<Figure size 800x550 with 1 Axes>"
            ],
            "image/png": "[encoded data removed]"
          },
          "metadata": {}
        },
        {
          "output_type": "display_data",
          "data": {
            "text/plain": [
              "<IPython.core.display.HTML object>"
            ],
            "text/html": []
          },
          "metadata": {}
        },
        {
          "output_type": "display_data",
          "data": {
            "text/plain": [
              "<pandas.io.formats.style.Styler at 0x79a1d65c6c80>"
            ],
            "text/html": [
              "<style type=\"text/css\">\n",
              "#T_f15bf_row10_col0, #T_f15bf_row10_col1, #T_f15bf_row10_col2, #T_f15bf_row10_col3, #T_f15bf_row10_col4, #T_f15bf_row10_col5, #T_f15bf_row10_col6 {\n",
              "  background: yellow;\n",
              "}\n",
              "</style>\n",
              "<table id=\"T_f15bf\" class=\"dataframe\">\n",
              "  <thead>\n",
              "    <tr>\n",
              "      <th class=\"blank level0\" >&nbsp;</th>\n",
              "      <th id=\"T_f15bf_level0_col0\" class=\"col_heading level0 col0\" >Accuracy</th>\n",
              "      <th id=\"T_f15bf_level0_col1\" class=\"col_heading level0 col1\" >AUC</th>\n",
              "      <th id=\"T_f15bf_level0_col2\" class=\"col_heading level0 col2\" >Recall</th>\n",
              "      <th id=\"T_f15bf_level0_col3\" class=\"col_heading level0 col3\" >Prec.</th>\n",
              "      <th id=\"T_f15bf_level0_col4\" class=\"col_heading level0 col4\" >F1</th>\n",
              "      <th id=\"T_f15bf_level0_col5\" class=\"col_heading level0 col5\" >Kappa</th>\n",
              "      <th id=\"T_f15bf_level0_col6\" class=\"col_heading level0 col6\" >MCC</th>\n",
              "    </tr>\n",
              "    <tr>\n",
              "      <th class=\"index_name level0\" >Fold</th>\n",
              "      <th class=\"blank col0\" >&nbsp;</th>\n",
              "      <th class=\"blank col1\" >&nbsp;</th>\n",
              "      <th class=\"blank col2\" >&nbsp;</th>\n",
              "      <th class=\"blank col3\" >&nbsp;</th>\n",
              "      <th class=\"blank col4\" >&nbsp;</th>\n",
              "      <th class=\"blank col5\" >&nbsp;</th>\n",
              "      <th class=\"blank col6\" >&nbsp;</th>\n",
              "    </tr>\n",
              "  </thead>\n",
              "  <tbody>\n",
              "    <tr>\n",
              "      <th id=\"T_f15bf_level0_row0\" class=\"row_heading level0 row0\" >0</th>\n",
              "      <td id=\"T_f15bf_row0_col0\" class=\"data row0 col0\" >0.9360</td>\n",
              "      <td id=\"T_f15bf_row0_col1\" class=\"data row0 col1\" >0.9854</td>\n",
              "      <td id=\"T_f15bf_row0_col2\" class=\"data row0 col2\" >0.6538</td>\n",
              "      <td id=\"T_f15bf_row0_col3\" class=\"data row0 col3\" >0.9189</td>\n",
              "      <td id=\"T_f15bf_row0_col4\" class=\"data row0 col4\" >0.7640</td>\n",
              "      <td id=\"T_f15bf_row0_col5\" class=\"data row0 col5\" >0.7282</td>\n",
              "      <td id=\"T_f15bf_row0_col6\" class=\"data row0 col6\" >0.7423</td>\n",
              "    </tr>\n",
              "    <tr>\n",
              "      <th id=\"T_f15bf_level0_row1\" class=\"row_heading level0 row1\" >1</th>\n",
              "      <td id=\"T_f15bf_row1_col0\" class=\"data row1 col0\" >0.9268</td>\n",
              "      <td id=\"T_f15bf_row1_col1\" class=\"data row1 col1\" >0.9791</td>\n",
              "      <td id=\"T_f15bf_row1_col2\" class=\"data row1 col2\" >0.6346</td>\n",
              "      <td id=\"T_f15bf_row1_col3\" class=\"data row1 col3\" >0.8684</td>\n",
              "      <td id=\"T_f15bf_row1_col4\" class=\"data row1 col4\" >0.7333</td>\n",
              "      <td id=\"T_f15bf_row1_col5\" class=\"data row1 col5\" >0.6921</td>\n",
              "      <td id=\"T_f15bf_row1_col6\" class=\"data row1 col6\" >0.7036</td>\n",
              "    </tr>\n",
              "    <tr>\n",
              "      <th id=\"T_f15bf_level0_row2\" class=\"row_heading level0 row2\" >2</th>\n",
              "      <td id=\"T_f15bf_row2_col0\" class=\"data row2 col0\" >0.9177</td>\n",
              "      <td id=\"T_f15bf_row2_col1\" class=\"data row2 col1\" >0.9661</td>\n",
              "      <td id=\"T_f15bf_row2_col2\" class=\"data row2 col2\" >0.6604</td>\n",
              "      <td id=\"T_f15bf_row2_col3\" class=\"data row2 col3\" >0.7955</td>\n",
              "      <td id=\"T_f15bf_row2_col4\" class=\"data row2 col4\" >0.7216</td>\n",
              "      <td id=\"T_f15bf_row2_col5\" class=\"data row2 col5\" >0.6738</td>\n",
              "      <td id=\"T_f15bf_row2_col6\" class=\"data row2 col6\" >0.6779</td>\n",
              "    </tr>\n",
              "    <tr>\n",
              "      <th id=\"T_f15bf_level0_row3\" class=\"row_heading level0 row3\" >3</th>\n",
              "      <td id=\"T_f15bf_row3_col0\" class=\"data row3 col0\" >0.9299</td>\n",
              "      <td id=\"T_f15bf_row3_col1\" class=\"data row3 col1\" >0.9766</td>\n",
              "      <td id=\"T_f15bf_row3_col2\" class=\"data row3 col2\" >0.6415</td>\n",
              "      <td id=\"T_f15bf_row3_col3\" class=\"data row3 col3\" >0.8947</td>\n",
              "      <td id=\"T_f15bf_row3_col4\" class=\"data row3 col4\" >0.7473</td>\n",
              "      <td id=\"T_f15bf_row3_col5\" class=\"data row3 col5\" >0.7078</td>\n",
              "      <td id=\"T_f15bf_row3_col6\" class=\"data row3 col6\" >0.7210</td>\n",
              "    </tr>\n",
              "    <tr>\n",
              "      <th id=\"T_f15bf_level0_row4\" class=\"row_heading level0 row4\" >4</th>\n",
              "      <td id=\"T_f15bf_row4_col0\" class=\"data row4 col0\" >0.9390</td>\n",
              "      <td id=\"T_f15bf_row4_col1\" class=\"data row4 col1\" >0.9835</td>\n",
              "      <td id=\"T_f15bf_row4_col2\" class=\"data row4 col2\" >0.6792</td>\n",
              "      <td id=\"T_f15bf_row4_col3\" class=\"data row4 col3\" >0.9231</td>\n",
              "      <td id=\"T_f15bf_row4_col4\" class=\"data row4 col4\" >0.7826</td>\n",
              "      <td id=\"T_f15bf_row4_col5\" class=\"data row4 col5\" >0.7481</td>\n",
              "      <td id=\"T_f15bf_row4_col6\" class=\"data row4 col6\" >0.7600</td>\n",
              "    </tr>\n",
              "    <tr>\n",
              "      <th id=\"T_f15bf_level0_row5\" class=\"row_heading level0 row5\" >5</th>\n",
              "      <td id=\"T_f15bf_row5_col0\" class=\"data row5 col0\" >0.9360</td>\n",
              "      <td id=\"T_f15bf_row5_col1\" class=\"data row5 col1\" >0.9741</td>\n",
              "      <td id=\"T_f15bf_row5_col2\" class=\"data row5 col2\" >0.6792</td>\n",
              "      <td id=\"T_f15bf_row5_col3\" class=\"data row5 col3\" >0.9000</td>\n",
              "      <td id=\"T_f15bf_row5_col4\" class=\"data row5 col4\" >0.7742</td>\n",
              "      <td id=\"T_f15bf_row5_col5\" class=\"data row5 col5\" >0.7377</td>\n",
              "      <td id=\"T_f15bf_row5_col6\" class=\"data row5 col6\" >0.7477</td>\n",
              "    </tr>\n",
              "    <tr>\n",
              "      <th id=\"T_f15bf_level0_row6\" class=\"row_heading level0 row6\" >6</th>\n",
              "      <td id=\"T_f15bf_row6_col0\" class=\"data row6 col0\" >0.9512</td>\n",
              "      <td id=\"T_f15bf_row6_col1\" class=\"data row6 col1\" >0.9897</td>\n",
              "      <td id=\"T_f15bf_row6_col2\" class=\"data row6 col2\" >0.7170</td>\n",
              "      <td id=\"T_f15bf_row6_col3\" class=\"data row6 col3\" >0.9744</td>\n",
              "      <td id=\"T_f15bf_row6_col4\" class=\"data row6 col4\" >0.8261</td>\n",
              "      <td id=\"T_f15bf_row6_col5\" class=\"data row6 col5\" >0.7985</td>\n",
              "      <td id=\"T_f15bf_row6_col6\" class=\"data row6 col6\" >0.8112</td>\n",
              "    </tr>\n",
              "    <tr>\n",
              "      <th id=\"T_f15bf_level0_row7\" class=\"row_heading level0 row7\" >7</th>\n",
              "      <td id=\"T_f15bf_row7_col0\" class=\"data row7 col0\" >0.9085</td>\n",
              "      <td id=\"T_f15bf_row7_col1\" class=\"data row7 col1\" >0.9585</td>\n",
              "      <td id=\"T_f15bf_row7_col2\" class=\"data row7 col2\" >0.5283</td>\n",
              "      <td id=\"T_f15bf_row7_col3\" class=\"data row7 col3\" >0.8485</td>\n",
              "      <td id=\"T_f15bf_row7_col4\" class=\"data row7 col4\" >0.6512</td>\n",
              "      <td id=\"T_f15bf_row7_col5\" class=\"data row7 col5\" >0.6018</td>\n",
              "      <td id=\"T_f15bf_row7_col6\" class=\"data row7 col6\" >0.6242</td>\n",
              "    </tr>\n",
              "    <tr>\n",
              "      <th id=\"T_f15bf_level0_row8\" class=\"row_heading level0 row8\" >8</th>\n",
              "      <td id=\"T_f15bf_row8_col0\" class=\"data row8 col0\" >0.9329</td>\n",
              "      <td id=\"T_f15bf_row8_col1\" class=\"data row8 col1\" >0.9795</td>\n",
              "      <td id=\"T_f15bf_row8_col2\" class=\"data row8 col2\" >0.6792</td>\n",
              "      <td id=\"T_f15bf_row8_col3\" class=\"data row8 col3\" >0.8780</td>\n",
              "      <td id=\"T_f15bf_row8_col4\" class=\"data row8 col4\" >0.7660</td>\n",
              "      <td id=\"T_f15bf_row8_col5\" class=\"data row8 col5\" >0.7276</td>\n",
              "      <td id=\"T_f15bf_row8_col6\" class=\"data row8 col6\" >0.7357</td>\n",
              "    </tr>\n",
              "    <tr>\n",
              "      <th id=\"T_f15bf_level0_row9\" class=\"row_heading level0 row9\" >9</th>\n",
              "      <td id=\"T_f15bf_row9_col0\" class=\"data row9 col0\" >0.9207</td>\n",
              "      <td id=\"T_f15bf_row9_col1\" class=\"data row9 col1\" >0.9708</td>\n",
              "      <td id=\"T_f15bf_row9_col2\" class=\"data row9 col2\" >0.6604</td>\n",
              "      <td id=\"T_f15bf_row9_col3\" class=\"data row9 col3\" >0.8140</td>\n",
              "      <td id=\"T_f15bf_row9_col4\" class=\"data row9 col4\" >0.7292</td>\n",
              "      <td id=\"T_f15bf_row9_col5\" class=\"data row9 col5\" >0.6833</td>\n",
              "      <td id=\"T_f15bf_row9_col6\" class=\"data row9 col6\" >0.6885</td>\n",
              "    </tr>\n",
              "    <tr>\n",
              "      <th id=\"T_f15bf_level0_row10\" class=\"row_heading level0 row10\" >Mean</th>\n",
              "      <td id=\"T_f15bf_row10_col0\" class=\"data row10 col0\" >0.9299</td>\n",
              "      <td id=\"T_f15bf_row10_col1\" class=\"data row10 col1\" >0.9763</td>\n",
              "      <td id=\"T_f15bf_row10_col2\" class=\"data row10 col2\" >0.6534</td>\n",
              "      <td id=\"T_f15bf_row10_col3\" class=\"data row10 col3\" >0.8815</td>\n",
              "      <td id=\"T_f15bf_row10_col4\" class=\"data row10 col4\" >0.7495</td>\n",
              "      <td id=\"T_f15bf_row10_col5\" class=\"data row10 col5\" >0.7099</td>\n",
              "      <td id=\"T_f15bf_row10_col6\" class=\"data row10 col6\" >0.7212</td>\n",
              "    </tr>\n",
              "    <tr>\n",
              "      <th id=\"T_f15bf_level0_row11\" class=\"row_heading level0 row11\" >Std</th>\n",
              "      <td id=\"T_f15bf_row11_col0\" class=\"data row11 col0\" >0.0115</td>\n",
              "      <td id=\"T_f15bf_row11_col1\" class=\"data row11 col1\" >0.0089</td>\n",
              "      <td id=\"T_f15bf_row11_col2\" class=\"data row11 col2\" >0.0472</td>\n",
              "      <td id=\"T_f15bf_row11_col3\" class=\"data row11 col3\" >0.0505</td>\n",
              "      <td id=\"T_f15bf_row11_col4\" class=\"data row11 col4\" >0.0438</td>\n",
              "      <td id=\"T_f15bf_row11_col5\" class=\"data row11 col5\" >0.0497</td>\n",
              "      <td id=\"T_f15bf_row11_col6\" class=\"data row11 col6\" >0.0486</td>\n",
              "    </tr>\n",
              "  </tbody>\n",
              "</table>\n"
            ]
          },
          "metadata": {}
        },
        {
          "output_type": "display_data",
          "data": {
            "text/plain": [
              "Processing:   0%|          | 0/4 [00:00<?, ?it/s]"
            ],
            "application/vnd.jupyter.widget-view+json": {
              "version_major": 2,
              "version_minor": 0,
              "model_id": "2c73c6945cba4237ae9dc18f42ee93d8"
            }
          },
          "metadata": {
            "application/vnd.jupyter.widget-view+json": {
              "colab": {
                "custom_widget_manager": {
                  "url": "https://ssl.gstatic.com/colaboratory-static/widgets/colab-cdn-widget-manager/b3e629b1971e1542/manager.min.js"
                }
              }
            }
          }
        },
        {
          "output_type": "display_data",
          "data": {
            "text/plain": [
              "<IPython.core.display.HTML object>"
            ],
            "text/html": []
          },
          "metadata": {}
        },
        {
          "output_type": "display_data",
          "data": {
            "text/plain": [
              "<IPython.core.display.HTML object>"
            ],
            "text/html": []
          },
          "metadata": {}
        },
        {
          "output_type": "display_data",
          "data": {
            "text/plain": [
              "<Figure size 800x550 with 1 Axes>"
            ],
            "image/png": "[encoded data removed]"
          },
          "metadata": {}
        }
      ]
    },
    {
      "cell_type": "markdown",
      "metadata": {
        "id": "AeLd0EIH5VHw"
      },
      "source": [
        "### <span style='color:DarkBlue'>1.4 Plot the Best Model</span>"
      ]
    },
    {
      "cell_type": "markdown",
      "metadata": {
        "id": "XYnBOI4-5VHw"
      },
      "source": [
        "##### Plot AUC"
      ]
    },
    {
      "cell_type": "code",
      "metadata": {
        "id": "tvdkQzOv5VHw",
        "colab": {
          "base_uri": "https://localhost:8080/",
          "height": 964,
          "referenced_widgets": [
            "fa14e9007207489c9f33ba1fffae8a81",
            "27e6e4406586476e8c0514da8e34edc8",
            "b8fd4febc8e442a4ba870c9d4e1d673d",
            "39fe8ca59a09450e868de1f395ffa95a",
            "5760f1e8453e4ef8860c7e1c95fa66f9",
            "6fa6e2386d344614b271df22431e4fbe",
            "70ea47b5750f4f788d3288de592008be",
            "38026aeba6124f9dba769a8332dc679d",
            "eaf7f7357e9d49619d69bda7d4190777",
            "770f7258fcb94511843fabeccace12e1",
            "c887893590fe430c8e49e8ff75bf5fbe"
          ]
        },
        "outputId": "050ab97c-cc76-4b2a-e8eb-525c879a9d27"
      },
      "source": [
        "adaModel = create_model('ada')\n",
        "plot_model(adaModel, plot='auc')"
      ],
      "execution_count": 10,
      "outputs": [
        {
          "output_type": "display_data",
          "data": {
            "text/plain": [
              "<IPython.core.display.HTML object>"
            ],
            "text/html": []
          },
          "metadata": {}
        },
        {
          "output_type": "display_data",
          "data": {
            "text/plain": [
              "<pandas.io.formats.style.Styler at 0x79a218d52110>"
            ],
            "text/html": [
              "<style type=\"text/css\">\n",
              "#T_9e64c_row10_col0, #T_9e64c_row10_col1, #T_9e64c_row10_col2, #T_9e64c_row10_col3, #T_9e64c_row10_col4, #T_9e64c_row10_col5, #T_9e64c_row10_col6 {\n",
              "  background: yellow;\n",
              "}\n",
              "</style>\n",
              "<table id=\"T_9e64c\" class=\"dataframe\">\n",
              "  <thead>\n",
              "    <tr>\n",
              "      <th class=\"blank level0\" >&nbsp;</th>\n",
              "      <th id=\"T_9e64c_level0_col0\" class=\"col_heading level0 col0\" >Accuracy</th>\n",
              "      <th id=\"T_9e64c_level0_col1\" class=\"col_heading level0 col1\" >AUC</th>\n",
              "      <th id=\"T_9e64c_level0_col2\" class=\"col_heading level0 col2\" >Recall</th>\n",
              "      <th id=\"T_9e64c_level0_col3\" class=\"col_heading level0 col3\" >Prec.</th>\n",
              "      <th id=\"T_9e64c_level0_col4\" class=\"col_heading level0 col4\" >F1</th>\n",
              "      <th id=\"T_9e64c_level0_col5\" class=\"col_heading level0 col5\" >Kappa</th>\n",
              "      <th id=\"T_9e64c_level0_col6\" class=\"col_heading level0 col6\" >MCC</th>\n",
              "    </tr>\n",
              "    <tr>\n",
              "      <th class=\"index_name level0\" >Fold</th>\n",
              "      <th class=\"blank col0\" >&nbsp;</th>\n",
              "      <th class=\"blank col1\" >&nbsp;</th>\n",
              "      <th class=\"blank col2\" >&nbsp;</th>\n",
              "      <th class=\"blank col3\" >&nbsp;</th>\n",
              "      <th class=\"blank col4\" >&nbsp;</th>\n",
              "      <th class=\"blank col5\" >&nbsp;</th>\n",
              "      <th class=\"blank col6\" >&nbsp;</th>\n",
              "    </tr>\n",
              "  </thead>\n",
              "  <tbody>\n",
              "    <tr>\n",
              "      <th id=\"T_9e64c_level0_row0\" class=\"row_heading level0 row0\" >0</th>\n",
              "      <td id=\"T_9e64c_row0_col0\" class=\"data row0 col0\" >0.9573</td>\n",
              "      <td id=\"T_9e64c_row0_col1\" class=\"data row0 col1\" >0.9827</td>\n",
              "      <td id=\"T_9e64c_row0_col2\" class=\"data row0 col2\" >0.8462</td>\n",
              "      <td id=\"T_9e64c_row0_col3\" class=\"data row0 col3\" >0.8800</td>\n",
              "      <td id=\"T_9e64c_row0_col4\" class=\"data row0 col4\" >0.8627</td>\n",
              "      <td id=\"T_9e64c_row0_col5\" class=\"data row0 col5\" >0.8375</td>\n",
              "      <td id=\"T_9e64c_row0_col6\" class=\"data row0 col6\" >0.8377</td>\n",
              "    </tr>\n",
              "    <tr>\n",
              "      <th id=\"T_9e64c_level0_row1\" class=\"row_heading level0 row1\" >1</th>\n",
              "      <td id=\"T_9e64c_row1_col0\" class=\"data row1 col0\" >0.9390</td>\n",
              "      <td id=\"T_9e64c_row1_col1\" class=\"data row1 col1\" >0.9760</td>\n",
              "      <td id=\"T_9e64c_row1_col2\" class=\"data row1 col2\" >0.8269</td>\n",
              "      <td id=\"T_9e64c_row1_col3\" class=\"data row1 col3\" >0.7963</td>\n",
              "      <td id=\"T_9e64c_row1_col4\" class=\"data row1 col4\" >0.8113</td>\n",
              "      <td id=\"T_9e64c_row1_col5\" class=\"data row1 col5\" >0.7750</td>\n",
              "      <td id=\"T_9e64c_row1_col6\" class=\"data row1 col6\" >0.7752</td>\n",
              "    </tr>\n",
              "    <tr>\n",
              "      <th id=\"T_9e64c_level0_row2\" class=\"row_heading level0 row2\" >2</th>\n",
              "      <td id=\"T_9e64c_row2_col0\" class=\"data row2 col0\" >0.9482</td>\n",
              "      <td id=\"T_9e64c_row2_col1\" class=\"data row2 col1\" >0.9875</td>\n",
              "      <td id=\"T_9e64c_row2_col2\" class=\"data row2 col2\" >0.8113</td>\n",
              "      <td id=\"T_9e64c_row2_col3\" class=\"data row2 col3\" >0.8600</td>\n",
              "      <td id=\"T_9e64c_row2_col4\" class=\"data row2 col4\" >0.8350</td>\n",
              "      <td id=\"T_9e64c_row2_col5\" class=\"data row2 col5\" >0.8042</td>\n",
              "      <td id=\"T_9e64c_row2_col6\" class=\"data row2 col6\" >0.8047</td>\n",
              "    </tr>\n",
              "    <tr>\n",
              "      <th id=\"T_9e64c_level0_row3\" class=\"row_heading level0 row3\" >3</th>\n",
              "      <td id=\"T_9e64c_row3_col0\" class=\"data row3 col0\" >0.9146</td>\n",
              "      <td id=\"T_9e64c_row3_col1\" class=\"data row3 col1\" >0.9664</td>\n",
              "      <td id=\"T_9e64c_row3_col2\" class=\"data row3 col2\" >0.6415</td>\n",
              "      <td id=\"T_9e64c_row3_col3\" class=\"data row3 col3\" >0.7907</td>\n",
              "      <td id=\"T_9e64c_row3_col4\" class=\"data row3 col4\" >0.7083</td>\n",
              "      <td id=\"T_9e64c_row3_col5\" class=\"data row3 col5\" >0.6590</td>\n",
              "      <td id=\"T_9e64c_row3_col6\" class=\"data row3 col6\" >0.6639</td>\n",
              "    </tr>\n",
              "    <tr>\n",
              "      <th id=\"T_9e64c_level0_row4\" class=\"row_heading level0 row4\" >4</th>\n",
              "      <td id=\"T_9e64c_row4_col0\" class=\"data row4 col0\" >0.9482</td>\n",
              "      <td id=\"T_9e64c_row4_col1\" class=\"data row4 col1\" >0.9898</td>\n",
              "      <td id=\"T_9e64c_row4_col2\" class=\"data row4 col2\" >0.7736</td>\n",
              "      <td id=\"T_9e64c_row4_col3\" class=\"data row4 col3\" >0.8913</td>\n",
              "      <td id=\"T_9e64c_row4_col4\" class=\"data row4 col4\" >0.8283</td>\n",
              "      <td id=\"T_9e64c_row4_col5\" class=\"data row4 col5\" >0.7979</td>\n",
              "      <td id=\"T_9e64c_row4_col6\" class=\"data row4 col6\" >0.8007</td>\n",
              "    </tr>\n",
              "    <tr>\n",
              "      <th id=\"T_9e64c_level0_row5\" class=\"row_heading level0 row5\" >5</th>\n",
              "      <td id=\"T_9e64c_row5_col0\" class=\"data row5 col0\" >0.9512</td>\n",
              "      <td id=\"T_9e64c_row5_col1\" class=\"data row5 col1\" >0.9879</td>\n",
              "      <td id=\"T_9e64c_row5_col2\" class=\"data row5 col2\" >0.7925</td>\n",
              "      <td id=\"T_9e64c_row5_col3\" class=\"data row5 col3\" >0.8936</td>\n",
              "      <td id=\"T_9e64c_row5_col4\" class=\"data row5 col4\" >0.8400</td>\n",
              "      <td id=\"T_9e64c_row5_col5\" class=\"data row5 col5\" >0.8113</td>\n",
              "      <td id=\"T_9e64c_row5_col6\" class=\"data row5 col6\" >0.8134</td>\n",
              "    </tr>\n",
              "    <tr>\n",
              "      <th id=\"T_9e64c_level0_row6\" class=\"row_heading level0 row6\" >6</th>\n",
              "      <td id=\"T_9e64c_row6_col0\" class=\"data row6 col0\" >0.9390</td>\n",
              "      <td id=\"T_9e64c_row6_col1\" class=\"data row6 col1\" >0.9791</td>\n",
              "      <td id=\"T_9e64c_row6_col2\" class=\"data row6 col2\" >0.7736</td>\n",
              "      <td id=\"T_9e64c_row6_col3\" class=\"data row6 col3\" >0.8367</td>\n",
              "      <td id=\"T_9e64c_row6_col4\" class=\"data row6 col4\" >0.8039</td>\n",
              "      <td id=\"T_9e64c_row6_col5\" class=\"data row6 col5\" >0.7679</td>\n",
              "      <td id=\"T_9e64c_row6_col6\" class=\"data row6 col6\" >0.7687</td>\n",
              "    </tr>\n",
              "    <tr>\n",
              "      <th id=\"T_9e64c_level0_row7\" class=\"row_heading level0 row7\" >7</th>\n",
              "      <td id=\"T_9e64c_row7_col0\" class=\"data row7 col0\" >0.9268</td>\n",
              "      <td id=\"T_9e64c_row7_col1\" class=\"data row7 col1\" >0.9739</td>\n",
              "      <td id=\"T_9e64c_row7_col2\" class=\"data row7 col2\" >0.7736</td>\n",
              "      <td id=\"T_9e64c_row7_col3\" class=\"data row7 col3\" >0.7736</td>\n",
              "      <td id=\"T_9e64c_row7_col4\" class=\"data row7 col4\" >0.7736</td>\n",
              "      <td id=\"T_9e64c_row7_col5\" class=\"data row7 col5\" >0.7299</td>\n",
              "      <td id=\"T_9e64c_row7_col6\" class=\"data row7 col6\" >0.7299</td>\n",
              "    </tr>\n",
              "    <tr>\n",
              "      <th id=\"T_9e64c_level0_row8\" class=\"row_heading level0 row8\" >8</th>\n",
              "      <td id=\"T_9e64c_row8_col0\" class=\"data row8 col0\" >0.9177</td>\n",
              "      <td id=\"T_9e64c_row8_col1\" class=\"data row8 col1\" >0.9668</td>\n",
              "      <td id=\"T_9e64c_row8_col2\" class=\"data row8 col2\" >0.8302</td>\n",
              "      <td id=\"T_9e64c_row8_col3\" class=\"data row8 col3\" >0.7097</td>\n",
              "      <td id=\"T_9e64c_row8_col4\" class=\"data row8 col4\" >0.7652</td>\n",
              "      <td id=\"T_9e64c_row8_col5\" class=\"data row8 col5\" >0.7157</td>\n",
              "      <td id=\"T_9e64c_row8_col6\" class=\"data row8 col6\" >0.7189</td>\n",
              "    </tr>\n",
              "    <tr>\n",
              "      <th id=\"T_9e64c_level0_row9\" class=\"row_heading level0 row9\" >9</th>\n",
              "      <td id=\"T_9e64c_row9_col0\" class=\"data row9 col0\" >0.9390</td>\n",
              "      <td id=\"T_9e64c_row9_col1\" class=\"data row9 col1\" >0.9781</td>\n",
              "      <td id=\"T_9e64c_row9_col2\" class=\"data row9 col2\" >0.8302</td>\n",
              "      <td id=\"T_9e64c_row9_col3\" class=\"data row9 col3\" >0.8000</td>\n",
              "      <td id=\"T_9e64c_row9_col4\" class=\"data row9 col4\" >0.8148</td>\n",
              "      <td id=\"T_9e64c_row9_col5\" class=\"data row9 col5\" >0.7783</td>\n",
              "      <td id=\"T_9e64c_row9_col6\" class=\"data row9 col6\" >0.7785</td>\n",
              "    </tr>\n",
              "    <tr>\n",
              "      <th id=\"T_9e64c_level0_row10\" class=\"row_heading level0 row10\" >Mean</th>\n",
              "      <td id=\"T_9e64c_row10_col0\" class=\"data row10 col0\" >0.9381</td>\n",
              "      <td id=\"T_9e64c_row10_col1\" class=\"data row10 col1\" >0.9788</td>\n",
              "      <td id=\"T_9e64c_row10_col2\" class=\"data row10 col2\" >0.7899</td>\n",
              "      <td id=\"T_9e64c_row10_col3\" class=\"data row10 col3\" >0.8232</td>\n",
              "      <td id=\"T_9e64c_row10_col4\" class=\"data row10 col4\" >0.8043</td>\n",
              "      <td id=\"T_9e64c_row10_col5\" class=\"data row10 col5\" >0.7677</td>\n",
              "      <td id=\"T_9e64c_row10_col6\" class=\"data row10 col6\" >0.7692</td>\n",
              "    </tr>\n",
              "    <tr>\n",
              "      <th id=\"T_9e64c_level0_row11\" class=\"row_heading level0 row11\" >Std</th>\n",
              "      <td id=\"T_9e64c_row11_col0\" class=\"data row11 col0\" >0.0136</td>\n",
              "      <td id=\"T_9e64c_row11_col1\" class=\"data row11 col1\" >0.0079</td>\n",
              "      <td id=\"T_9e64c_row11_col2\" class=\"data row11 col2\" >0.0557</td>\n",
              "      <td id=\"T_9e64c_row11_col3\" class=\"data row11 col3\" >0.0566</td>\n",
              "      <td id=\"T_9e64c_row11_col4\" class=\"data row11 col4\" >0.0425</td>\n",
              "      <td id=\"T_9e64c_row11_col5\" class=\"data row11 col5\" >0.0501</td>\n",
              "      <td id=\"T_9e64c_row11_col6\" class=\"data row11 col6\" >0.0492</td>\n",
              "    </tr>\n",
              "  </tbody>\n",
              "</table>\n"
            ]
          },
          "metadata": {}
        },
        {
          "output_type": "display_data",
          "data": {
            "text/plain": [
              "Processing:   0%|          | 0/4 [00:00<?, ?it/s]"
            ],
            "application/vnd.jupyter.widget-view+json": {
              "version_major": 2,
              "version_minor": 0,
              "model_id": "fa14e9007207489c9f33ba1fffae8a81"
            }
          },
          "metadata": {
            "application/vnd.jupyter.widget-view+json": {
              "colab": {
                "custom_widget_manager": {
                  "url": "https://ssl.gstatic.com/colaboratory-static/widgets/colab-cdn-widget-manager/b3e629b1971e1542/manager.min.js"
                }
              }
            }
          }
        },
        {
          "output_type": "display_data",
          "data": {
            "text/plain": [
              "<IPython.core.display.HTML object>"
            ],
            "text/html": []
          },
          "metadata": {}
        },
        {
          "output_type": "display_data",
          "data": {
            "text/plain": [
              "<IPython.core.display.HTML object>"
            ],
            "text/html": []
          },
          "metadata": {}
        },
        {
          "output_type": "display_data",
          "data": {
            "text/plain": [
              "<Figure size 800x550 with 1 Axes>"
            ],
            "image/png": "[encoded data removed]"
          },
          "metadata": {}
        }
      ]
    },
    {
      "cell_type": "markdown",
      "metadata": {
        "id": "Umz1blmt5VHx"
      },
      "source": [
        "##### Plot Precision Recall Curve"
      ]
    },
    {
      "cell_type": "code",
      "metadata": {
        "id": "6M4QZjkU5VHx",
        "colab": {
          "base_uri": "https://localhost:8080/",
          "height": 524
        },
        "outputId": "862b28bd-9a30-4442-96d0-35a8f3f79925"
      },
      "source": [
        "plot_model(adaModel, plot='pr')"
      ],
      "execution_count": 11,
      "outputs": [
        {
          "output_type": "display_data",
          "data": {
            "text/plain": [
              "<IPython.core.display.HTML object>"
            ],
            "text/html": []
          },
          "metadata": {}
        },
        {
          "output_type": "display_data",
          "data": {
            "text/plain": [
              "<Figure size 800x550 with 1 Axes>"
            ],
            "image/png": "[encoded data removed]"
          },
          "metadata": {}
        }
      ]
    },
    {
      "cell_type": "markdown",
      "metadata": {
        "id": "uNQ4ByiP5VHx"
      },
      "source": [
        "##### Plot Confusion Matrix"
      ]
    },
    {
      "cell_type": "code",
      "metadata": {
        "id": "aH573Yeh5VHx",
        "colab": {
          "base_uri": "https://localhost:8080/",
          "height": 551
        },
        "outputId": "303aeca2-eca3-4a86-ad39-f38ad7e156f6"
      },
      "source": [
        "plot_model(adaModel, plot='confusion_matrix')"
      ],
      "execution_count": 12,
      "outputs": [
        {
          "output_type": "display_data",
          "data": {
            "text/plain": [
              "<IPython.core.display.HTML object>"
            ],
            "text/html": []
          },
          "metadata": {}
        },
        {
          "output_type": "display_data",
          "data": {
            "text/plain": [
              "<Figure size 800x550 with 1 Axes>"
            ],
            "image/png": "[encoded data removed]"
          },
          "metadata": {}
        }
      ]
    },
    {
      "cell_type": "markdown",
      "metadata": {
        "id": "Y6KsS6si5VHx"
      },
      "source": [
        "##### Plot error"
      ]
    },
    {
      "cell_type": "markdown",
      "metadata": {
        "id": "Xmul7WYy5VHx"
      },
      "source": [
        "##### Plot Class Report"
      ]
    },
    {
      "cell_type": "code",
      "metadata": {
        "id": "3y02mPGZ5VHx",
        "colab": {
          "base_uri": "https://localhost:8080/",
          "height": 551
        },
        "outputId": "d4bc3d0f-774f-4748-bf58-53f397e404c9"
      },
      "source": [
        "plot_model(adaModel, plot='class_report')"
      ],
      "execution_count": 14,
      "outputs": [
        {
          "output_type": "display_data",
          "data": {
            "text/plain": [
              "<IPython.core.display.HTML object>"
            ],
            "text/html": []
          },
          "metadata": {}
        },
        {
          "output_type": "display_data",
          "data": {
            "text/plain": [
              "<Figure size 800x550 with 2 Axes>"
            ],
            "image/png": "[encoded data removed]"
          },
          "metadata": {}
        }
      ]
    },
    {
      "cell_type": "markdown",
      "metadata": {
        "id": "npePb3zp5VHx"
      },
      "source": [
        "##### Plot Learning"
      ]
    },
    {
      "cell_type": "code",
      "metadata": {
        "id": "DZUH5glM5VHx",
        "colab": {
          "base_uri": "https://localhost:8080/",
          "height": 524
        },
        "outputId": "de438f2b-6101-47c1-f8ea-4a57099b31d2"
      },
      "source": [
        "plot_model(adaModel, plot='learning')"
      ],
      "execution_count": 16,
      "outputs": [
        {
          "output_type": "display_data",
          "data": {
            "text/plain": [
              "<IPython.core.display.HTML object>"
            ],
            "text/html": []
          },
          "metadata": {}
        },
        {
          "output_type": "display_data",
          "data": {
            "text/plain": [
              "<Figure size 800x550 with 1 Axes>"
            ],
            "image/png": "[encoded data removed]"
          },
          "metadata": {}
        }
      ]
    },
    {
      "cell_type": "markdown",
      "metadata": {
        "id": "IuEaJFrd5VHx"
      },
      "source": [
        "##### Plot Feature Importance"
      ]
    },
    {
      "cell_type": "code",
      "metadata": {
        "id": "g9p50GjH5VHx",
        "colab": {
          "base_uri": "https://localhost:8080/",
          "height": 485
        },
        "outputId": "d6ef6374-ff73-47cf-e30c-da0b1d7669f0"
      },
      "source": [
        "plot_model(adaModel, plot='feature')"
      ],
      "execution_count": 17,
      "outputs": [
        {
          "output_type": "display_data",
          "data": {
            "text/plain": [
              "<IPython.core.display.HTML object>"
            ],
            "text/html": []
          },
          "metadata": {}
        },
        {
          "output_type": "display_data",
          "data": {
            "text/plain": [
              "<Figure size 800x500 with 1 Axes>"
            ],
            "image/png": "[encoded data removed]"
          },
          "metadata": {}
        }
      ]
    }
  ]
}